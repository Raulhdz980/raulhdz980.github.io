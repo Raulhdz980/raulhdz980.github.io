{
  "cells": [
    {
      "cell_type": "markdown",
      "metadata": {
        "id": "KzVUUTMmFNr_"
      },
      "source": [
        "# Conectando a Drive"
      ]
    },
    {
      "cell_type": "code",
      "execution_count": 174,
      "metadata": {
        "colab": {
          "base_uri": "https://localhost:8080/"
        },
        "id": "14JPC2kPFTiv",
        "outputId": "84a273df-244e-43cc-cb52-d990d8a97d89"
      },
      "outputs": [],
      "source": [
        "\n",
        "ruta_archivo1 = 'data/products_df.csv'\n",
        "ruta_archivo2 = 'data/commercial_activity_df.csv'\n",
        "ruta_archivo3 = 'data/sociodemographic_df.csv'"
      ]
    },
    {
      "cell_type": "markdown",
      "metadata": {
        "id": "xZ62GwSqEQC9"
      },
      "source": [
        "# Importando paquetes"
      ]
    },
    {
      "cell_type": "code",
      "execution_count": 175,
      "metadata": {
        "id": "U30CMoVEEQC_"
      },
      "outputs": [],
      "source": [
        "import pandas as pd\n",
        "import numpy as np\n",
        "import matplotlib.pyplot as plt\n",
        "import plotly.express as px\n",
        "import seaborn as sns"
      ]
    },
    {
      "cell_type": "code",
      "execution_count": 176,
      "metadata": {
        "id": "5g9XYzDeEQDB"
      },
      "outputs": [],
      "source": [
        "pd.set_option('display.max_columns', None)\n",
        "pd.set_option('display.width', None)"
      ]
    },
    {
      "cell_type": "markdown",
      "metadata": {
        "id": "F01TS9PxEQDC"
      },
      "source": [
        "# Inspeccionando los datos"
      ]
    },
    {
      "cell_type": "code",
      "execution_count": 177,
      "metadata": {
        "id": "Qg8c_YnQEQDE"
      },
      "outputs": [],
      "source": [
        "df_com_act = pd.read_csv(ruta_archivo2)\n",
        "df_products = pd.read_csv(ruta_archivo1)\n",
        "df_sociodem = pd.read_csv(ruta_archivo3)"
      ]
    },
    {
      "cell_type": "markdown",
      "metadata": {
        "id": "MT9YyKBbEQDF"
      },
      "source": [
        "## Commercial activity"
      ]
    },
    {
      "cell_type": "markdown",
      "metadata": {
        "id": "AfGCHx0uEQDG"
      },
      "source": [
        "* pk_cid: Identificador de cliente\n",
        "* pk_partition: Fecha de ingesta de los datos\n",
        "* entry_date: Fecha en la que realizó la primera contratación a través de easyMoney\n",
        "* entry_channel: Canal de captación del cliente\n",
        "* active_customer: Indicador de actividad del cliente en nuestra aplicación\n",
        "* segment: Segmento comercial del cliente"
      ]
    },
    {
      "cell_type": "code",
      "execution_count": 178,
      "metadata": {
        "colab": {
          "base_uri": "https://localhost:8080/",
          "height": 330
        },
        "id": "XN2PODLpEQDG",
        "outputId": "e6092083-77cf-42fe-ec5c-116d973e1414"
      },
      "outputs": [
        {
          "data": {
            "text/html": [
              "<div>\n",
              "<style scoped>\n",
              "    .dataframe tbody tr th:only-of-type {\n",
              "        vertical-align: middle;\n",
              "    }\n",
              "\n",
              "    .dataframe tbody tr th {\n",
              "        vertical-align: top;\n",
              "    }\n",
              "\n",
              "    .dataframe thead th {\n",
              "        text-align: right;\n",
              "    }\n",
              "</style>\n",
              "<table border=\"1\" class=\"dataframe\">\n",
              "  <thead>\n",
              "    <tr style=\"text-align: right;\">\n",
              "      <th></th>\n",
              "      <th>Unnamed: 0</th>\n",
              "      <th>pk_cid</th>\n",
              "      <th>pk_partition</th>\n",
              "      <th>entry_date</th>\n",
              "      <th>entry_channel</th>\n",
              "      <th>active_customer</th>\n",
              "      <th>segment</th>\n",
              "    </tr>\n",
              "  </thead>\n",
              "  <tbody>\n",
              "    <tr>\n",
              "      <th>0</th>\n",
              "      <td>0</td>\n",
              "      <td>1375586</td>\n",
              "      <td>2018-01-28</td>\n",
              "      <td>2018-01-12</td>\n",
              "      <td>KHL</td>\n",
              "      <td>1.0</td>\n",
              "      <td>02 - PARTICULARES</td>\n",
              "    </tr>\n",
              "    <tr>\n",
              "      <th>1</th>\n",
              "      <td>1</td>\n",
              "      <td>1050611</td>\n",
              "      <td>2018-01-28</td>\n",
              "      <td>2015-08-10</td>\n",
              "      <td>KHE</td>\n",
              "      <td>0.0</td>\n",
              "      <td>03 - UNIVERSITARIO</td>\n",
              "    </tr>\n",
              "    <tr>\n",
              "      <th>2</th>\n",
              "      <td>2</td>\n",
              "      <td>1050612</td>\n",
              "      <td>2018-01-28</td>\n",
              "      <td>2015-08-10</td>\n",
              "      <td>KHE</td>\n",
              "      <td>0.0</td>\n",
              "      <td>03 - UNIVERSITARIO</td>\n",
              "    </tr>\n",
              "    <tr>\n",
              "      <th>3</th>\n",
              "      <td>3</td>\n",
              "      <td>1050613</td>\n",
              "      <td>2018-01-28</td>\n",
              "      <td>2015-08-10</td>\n",
              "      <td>KHD</td>\n",
              "      <td>0.0</td>\n",
              "      <td>03 - UNIVERSITARIO</td>\n",
              "    </tr>\n",
              "    <tr>\n",
              "      <th>4</th>\n",
              "      <td>4</td>\n",
              "      <td>1050614</td>\n",
              "      <td>2018-01-28</td>\n",
              "      <td>2015-08-10</td>\n",
              "      <td>KHE</td>\n",
              "      <td>1.0</td>\n",
              "      <td>03 - UNIVERSITARIO</td>\n",
              "    </tr>\n",
              "  </tbody>\n",
              "</table>\n",
              "</div>"
            ],
            "text/plain": [
              "   Unnamed: 0   pk_cid pk_partition  entry_date entry_channel  \\\n",
              "0           0  1375586   2018-01-28  2018-01-12           KHL   \n",
              "1           1  1050611   2018-01-28  2015-08-10           KHE   \n",
              "2           2  1050612   2018-01-28  2015-08-10           KHE   \n",
              "3           3  1050613   2018-01-28  2015-08-10           KHD   \n",
              "4           4  1050614   2018-01-28  2015-08-10           KHE   \n",
              "\n",
              "   active_customer             segment  \n",
              "0              1.0   02 - PARTICULARES  \n",
              "1              0.0  03 - UNIVERSITARIO  \n",
              "2              0.0  03 - UNIVERSITARIO  \n",
              "3              0.0  03 - UNIVERSITARIO  \n",
              "4              1.0  03 - UNIVERSITARIO  "
            ]
          },
          "execution_count": 178,
          "metadata": {},
          "output_type": "execute_result"
        }
      ],
      "source": [
        "df_com_act.head()"
      ]
    },
    {
      "cell_type": "code",
      "execution_count": 179,
      "metadata": {
        "colab": {
          "base_uri": "https://localhost:8080/",
          "height": 368
        },
        "id": "jbSyVunAEQDH",
        "outputId": "a4f38bd5-ad78-4435-f371-b896d7739356"
      },
      "outputs": [
        {
          "data": {
            "text/plain": [
              "'Cosas que hacer'"
            ]
          },
          "execution_count": 179,
          "metadata": {},
          "output_type": "execute_result"
        }
      ],
      "source": [
        "'''Cosas que hacer'''\n",
        "# Eliminar la columna unnamed porque es un índice duplicado\n",
        "# UNA VEZ UNAMOS LAS TABLAS (por pk_cid + pk_partition) - Eliminar la columna del id de cliente\n",
        "# Ideas para fechas - sacar día de la semana, mes o año, diferencia entre entrada de datos y primera consulta...\n",
        "# Convertir entry_channel en categórica y/o crear dummies\n",
        "# Convertir active customer en int\n",
        "# Convertir segment en categórica y dejar o solo numeros o solo palabra + crear dummies para el modelo"
      ]
    },
    {
      "cell_type": "code",
      "execution_count": 180,
      "metadata": {
        "colab": {
          "base_uri": "https://localhost:8080/"
        },
        "id": "OtbwXMzmEQDJ",
        "outputId": "ca8fa6d1-9f22-4330-e5cc-565ca282e6f2"
      },
      "outputs": [
        {
          "data": {
            "text/plain": [
              "(5962924, 7)"
            ]
          },
          "execution_count": 180,
          "metadata": {},
          "output_type": "execute_result"
        }
      ],
      "source": [
        "df_com_act.shape"
      ]
    },
    {
      "cell_type": "code",
      "execution_count": 181,
      "metadata": {
        "id": "ZlTY-icSEQDJ"
      },
      "outputs": [],
      "source": [
        "# Eliminamos la columna del índice\n",
        "df_com_act=df_com_act.drop('Unnamed: 0', axis=1)"
      ]
    },
    {
      "cell_type": "markdown",
      "metadata": {
        "id": "qvJ2r1fQEQDK"
      },
      "source": [
        "## Products"
      ]
    },
    {
      "cell_type": "markdown",
      "metadata": {
        "id": "69vbYvPQEQDL"
      },
      "source": [
        "* pk_cid: Identificador de cliente\n",
        "* pk_partition: Fecha de ingesta de los datos\n",
        "* short_term_deposit\n",
        "* loans\n",
        "* mortgage\n",
        "* funds: fondos de inversión\n",
        "* securities: valores\n",
        "* long_term_deposit\n",
        "* em_account_p: Cuenta easyMoney+\n",
        "* em_account_pp: Cuenta easyMoney++\n",
        "* em_acount: Cuenta easyMoney\n",
        "* emc_account: Cuenta easyMoney Crypto\n",
        "* credit_card\n",
        "* pay_roll: domiciliaciones\n",
        "* pension_plan\n",
        "* pay_roll_account\n",
        "* debit_card"
      ]
    },
    {
      "cell_type": "code",
      "execution_count": 182,
      "metadata": {
        "colab": {
          "base_uri": "https://localhost:8080/",
          "height": 244
        },
        "id": "_St4Sz89EQDM",
        "outputId": "b5f490a5-e9c9-46f0-e46b-ca35169e22c6"
      },
      "outputs": [
        {
          "data": {
            "text/html": [
              "<div>\n",
              "<style scoped>\n",
              "    .dataframe tbody tr th:only-of-type {\n",
              "        vertical-align: middle;\n",
              "    }\n",
              "\n",
              "    .dataframe tbody tr th {\n",
              "        vertical-align: top;\n",
              "    }\n",
              "\n",
              "    .dataframe thead th {\n",
              "        text-align: right;\n",
              "    }\n",
              "</style>\n",
              "<table border=\"1\" class=\"dataframe\">\n",
              "  <thead>\n",
              "    <tr style=\"text-align: right;\">\n",
              "      <th></th>\n",
              "      <th>Unnamed: 0</th>\n",
              "      <th>pk_cid</th>\n",
              "      <th>pk_partition</th>\n",
              "      <th>short_term_deposit</th>\n",
              "      <th>loans</th>\n",
              "      <th>mortgage</th>\n",
              "      <th>funds</th>\n",
              "      <th>securities</th>\n",
              "      <th>long_term_deposit</th>\n",
              "      <th>em_account_pp</th>\n",
              "      <th>credit_card</th>\n",
              "      <th>payroll</th>\n",
              "      <th>pension_plan</th>\n",
              "      <th>payroll_account</th>\n",
              "      <th>emc_account</th>\n",
              "      <th>debit_card</th>\n",
              "      <th>em_account_p</th>\n",
              "      <th>em_acount</th>\n",
              "    </tr>\n",
              "  </thead>\n",
              "  <tbody>\n",
              "    <tr>\n",
              "      <th>0</th>\n",
              "      <td>0</td>\n",
              "      <td>1375586</td>\n",
              "      <td>2018-01-28</td>\n",
              "      <td>0</td>\n",
              "      <td>0</td>\n",
              "      <td>0</td>\n",
              "      <td>0</td>\n",
              "      <td>0</td>\n",
              "      <td>0</td>\n",
              "      <td>0</td>\n",
              "      <td>0</td>\n",
              "      <td>0.0</td>\n",
              "      <td>0.0</td>\n",
              "      <td>0</td>\n",
              "      <td>0</td>\n",
              "      <td>0</td>\n",
              "      <td>0</td>\n",
              "      <td>1</td>\n",
              "    </tr>\n",
              "    <tr>\n",
              "      <th>1</th>\n",
              "      <td>1</td>\n",
              "      <td>1050611</td>\n",
              "      <td>2018-01-28</td>\n",
              "      <td>0</td>\n",
              "      <td>0</td>\n",
              "      <td>0</td>\n",
              "      <td>0</td>\n",
              "      <td>0</td>\n",
              "      <td>0</td>\n",
              "      <td>0</td>\n",
              "      <td>0</td>\n",
              "      <td>0.0</td>\n",
              "      <td>0.0</td>\n",
              "      <td>0</td>\n",
              "      <td>0</td>\n",
              "      <td>0</td>\n",
              "      <td>0</td>\n",
              "      <td>1</td>\n",
              "    </tr>\n",
              "    <tr>\n",
              "      <th>2</th>\n",
              "      <td>2</td>\n",
              "      <td>1050612</td>\n",
              "      <td>2018-01-28</td>\n",
              "      <td>0</td>\n",
              "      <td>0</td>\n",
              "      <td>0</td>\n",
              "      <td>0</td>\n",
              "      <td>0</td>\n",
              "      <td>0</td>\n",
              "      <td>0</td>\n",
              "      <td>0</td>\n",
              "      <td>0.0</td>\n",
              "      <td>0.0</td>\n",
              "      <td>0</td>\n",
              "      <td>0</td>\n",
              "      <td>0</td>\n",
              "      <td>0</td>\n",
              "      <td>1</td>\n",
              "    </tr>\n",
              "    <tr>\n",
              "      <th>3</th>\n",
              "      <td>3</td>\n",
              "      <td>1050613</td>\n",
              "      <td>2018-01-28</td>\n",
              "      <td>1</td>\n",
              "      <td>0</td>\n",
              "      <td>0</td>\n",
              "      <td>0</td>\n",
              "      <td>0</td>\n",
              "      <td>0</td>\n",
              "      <td>0</td>\n",
              "      <td>0</td>\n",
              "      <td>0.0</td>\n",
              "      <td>0.0</td>\n",
              "      <td>0</td>\n",
              "      <td>0</td>\n",
              "      <td>0</td>\n",
              "      <td>0</td>\n",
              "      <td>0</td>\n",
              "    </tr>\n",
              "    <tr>\n",
              "      <th>4</th>\n",
              "      <td>4</td>\n",
              "      <td>1050614</td>\n",
              "      <td>2018-01-28</td>\n",
              "      <td>0</td>\n",
              "      <td>0</td>\n",
              "      <td>0</td>\n",
              "      <td>0</td>\n",
              "      <td>0</td>\n",
              "      <td>0</td>\n",
              "      <td>0</td>\n",
              "      <td>0</td>\n",
              "      <td>0.0</td>\n",
              "      <td>0.0</td>\n",
              "      <td>0</td>\n",
              "      <td>0</td>\n",
              "      <td>0</td>\n",
              "      <td>0</td>\n",
              "      <td>1</td>\n",
              "    </tr>\n",
              "  </tbody>\n",
              "</table>\n",
              "</div>"
            ],
            "text/plain": [
              "   Unnamed: 0   pk_cid pk_partition  short_term_deposit  loans  mortgage  \\\n",
              "0           0  1375586   2018-01-28                   0      0         0   \n",
              "1           1  1050611   2018-01-28                   0      0         0   \n",
              "2           2  1050612   2018-01-28                   0      0         0   \n",
              "3           3  1050613   2018-01-28                   1      0         0   \n",
              "4           4  1050614   2018-01-28                   0      0         0   \n",
              "\n",
              "   funds  securities  long_term_deposit  em_account_pp  credit_card  payroll  \\\n",
              "0      0           0                  0              0            0      0.0   \n",
              "1      0           0                  0              0            0      0.0   \n",
              "2      0           0                  0              0            0      0.0   \n",
              "3      0           0                  0              0            0      0.0   \n",
              "4      0           0                  0              0            0      0.0   \n",
              "\n",
              "   pension_plan  payroll_account  emc_account  debit_card  em_account_p  \\\n",
              "0           0.0                0            0           0             0   \n",
              "1           0.0                0            0           0             0   \n",
              "2           0.0                0            0           0             0   \n",
              "3           0.0                0            0           0             0   \n",
              "4           0.0                0            0           0             0   \n",
              "\n",
              "   em_acount  \n",
              "0          1  \n",
              "1          1  \n",
              "2          1  \n",
              "3          0  \n",
              "4          1  "
            ]
          },
          "execution_count": 182,
          "metadata": {},
          "output_type": "execute_result"
        }
      ],
      "source": [
        "df_products.head()"
      ]
    },
    {
      "cell_type": "code",
      "execution_count": 183,
      "metadata": {
        "colab": {
          "base_uri": "https://localhost:8080/"
        },
        "id": "riFKwQWUEQDM",
        "outputId": "e8d37617-b979-440c-9eeb-caed0b69efef"
      },
      "outputs": [
        {
          "data": {
            "text/plain": [
              "(5962924, 18)"
            ]
          },
          "execution_count": 183,
          "metadata": {},
          "output_type": "execute_result"
        }
      ],
      "source": [
        "df_products.shape"
      ]
    },
    {
      "cell_type": "code",
      "execution_count": 184,
      "metadata": {
        "colab": {
          "base_uri": "https://localhost:8080/",
          "height": 368
        },
        "id": "LO-gFAonEQDN",
        "outputId": "75d4b898-de1b-4f3e-98b2-86f12efdff5a"
      },
      "outputs": [
        {
          "data": {
            "text/plain": [
              "'Cosas que hacer'"
            ]
          },
          "execution_count": 184,
          "metadata": {},
          "output_type": "execute_result"
        }
      ],
      "source": [
        "'''Cosas que hacer'''\n",
        "# Eliminar la columna unnamed porque es un índice duplicado\n",
        "# Una vez unidas las tablas, eliminar pk_cid\n",
        "# Convertir payroll y pension_plan en int"
      ]
    },
    {
      "cell_type": "code",
      "execution_count": 185,
      "metadata": {
        "id": "L2WdWz6xEQDN"
      },
      "outputs": [],
      "source": [
        "# Eliminamos la columna del índice\n",
        "df_products=df_products.drop('Unnamed: 0', axis=1)"
      ]
    },
    {
      "cell_type": "markdown",
      "metadata": {
        "id": "Bu7FLLq4EQDN"
      },
      "source": [
        "## Sociodemographic"
      ]
    },
    {
      "cell_type": "code",
      "execution_count": 186,
      "metadata": {
        "colab": {
          "base_uri": "https://localhost:8080/",
          "height": 244
        },
        "id": "SiEpOt_XEQDO",
        "outputId": "f0415c6d-d1e5-4170-e83b-6db1bebc8172"
      },
      "outputs": [
        {
          "data": {
            "text/html": [
              "<div>\n",
              "<style scoped>\n",
              "    .dataframe tbody tr th:only-of-type {\n",
              "        vertical-align: middle;\n",
              "    }\n",
              "\n",
              "    .dataframe tbody tr th {\n",
              "        vertical-align: top;\n",
              "    }\n",
              "\n",
              "    .dataframe thead th {\n",
              "        text-align: right;\n",
              "    }\n",
              "</style>\n",
              "<table border=\"1\" class=\"dataframe\">\n",
              "  <thead>\n",
              "    <tr style=\"text-align: right;\">\n",
              "      <th></th>\n",
              "      <th>Unnamed: 0</th>\n",
              "      <th>pk_cid</th>\n",
              "      <th>pk_partition</th>\n",
              "      <th>country_id</th>\n",
              "      <th>region_code</th>\n",
              "      <th>gender</th>\n",
              "      <th>age</th>\n",
              "      <th>deceased</th>\n",
              "      <th>salary</th>\n",
              "    </tr>\n",
              "  </thead>\n",
              "  <tbody>\n",
              "    <tr>\n",
              "      <th>0</th>\n",
              "      <td>0</td>\n",
              "      <td>1375586</td>\n",
              "      <td>2018-01-28</td>\n",
              "      <td>ES</td>\n",
              "      <td>29.0</td>\n",
              "      <td>H</td>\n",
              "      <td>35</td>\n",
              "      <td>N</td>\n",
              "      <td>87218.10</td>\n",
              "    </tr>\n",
              "    <tr>\n",
              "      <th>1</th>\n",
              "      <td>1</td>\n",
              "      <td>1050611</td>\n",
              "      <td>2018-01-28</td>\n",
              "      <td>ES</td>\n",
              "      <td>13.0</td>\n",
              "      <td>V</td>\n",
              "      <td>23</td>\n",
              "      <td>N</td>\n",
              "      <td>35548.74</td>\n",
              "    </tr>\n",
              "    <tr>\n",
              "      <th>2</th>\n",
              "      <td>2</td>\n",
              "      <td>1050612</td>\n",
              "      <td>2018-01-28</td>\n",
              "      <td>ES</td>\n",
              "      <td>13.0</td>\n",
              "      <td>V</td>\n",
              "      <td>23</td>\n",
              "      <td>N</td>\n",
              "      <td>122179.11</td>\n",
              "    </tr>\n",
              "    <tr>\n",
              "      <th>3</th>\n",
              "      <td>3</td>\n",
              "      <td>1050613</td>\n",
              "      <td>2018-01-28</td>\n",
              "      <td>ES</td>\n",
              "      <td>50.0</td>\n",
              "      <td>H</td>\n",
              "      <td>22</td>\n",
              "      <td>N</td>\n",
              "      <td>119775.54</td>\n",
              "    </tr>\n",
              "    <tr>\n",
              "      <th>4</th>\n",
              "      <td>4</td>\n",
              "      <td>1050614</td>\n",
              "      <td>2018-01-28</td>\n",
              "      <td>ES</td>\n",
              "      <td>50.0</td>\n",
              "      <td>V</td>\n",
              "      <td>23</td>\n",
              "      <td>N</td>\n",
              "      <td>NaN</td>\n",
              "    </tr>\n",
              "  </tbody>\n",
              "</table>\n",
              "</div>"
            ],
            "text/plain": [
              "   Unnamed: 0   pk_cid pk_partition country_id  region_code gender  age  \\\n",
              "0           0  1375586   2018-01-28         ES         29.0      H   35   \n",
              "1           1  1050611   2018-01-28         ES         13.0      V   23   \n",
              "2           2  1050612   2018-01-28         ES         13.0      V   23   \n",
              "3           3  1050613   2018-01-28         ES         50.0      H   22   \n",
              "4           4  1050614   2018-01-28         ES         50.0      V   23   \n",
              "\n",
              "  deceased     salary  \n",
              "0        N   87218.10  \n",
              "1        N   35548.74  \n",
              "2        N  122179.11  \n",
              "3        N  119775.54  \n",
              "4        N        NaN  "
            ]
          },
          "execution_count": 186,
          "metadata": {},
          "output_type": "execute_result"
        }
      ],
      "source": [
        "df_sociodem.head()"
      ]
    },
    {
      "cell_type": "code",
      "execution_count": 187,
      "metadata": {
        "id": "4JIo54WEEQDO"
      },
      "outputs": [],
      "source": [
        "# eliminar columna unnamed\n",
        "# unir por pk_cid y partition y luego eliminar id\n",
        "# convertir contry code en int + categórica\n",
        "#convertir gender en 1 o 0\n",
        "#convertir deceased en 1 o 0"
      ]
    },
    {
      "cell_type": "code",
      "execution_count": 188,
      "metadata": {
        "colab": {
          "base_uri": "https://localhost:8080/"
        },
        "id": "lJMX5mSBEQDO",
        "outputId": "06fec616-1024-476e-bae9-178876269771"
      },
      "outputs": [
        {
          "data": {
            "text/plain": [
              "(5962924, 9)"
            ]
          },
          "execution_count": 188,
          "metadata": {},
          "output_type": "execute_result"
        }
      ],
      "source": [
        "df_sociodem.shape"
      ]
    },
    {
      "cell_type": "code",
      "execution_count": 189,
      "metadata": {
        "id": "cZE2LqIKEQDP"
      },
      "outputs": [],
      "source": [
        "# Eliminamos la columna del índice\n",
        "df_sociodem=df_sociodem.drop('Unnamed: 0', axis=1)"
      ]
    },
    {
      "cell_type": "markdown",
      "metadata": {
        "id": "dhnBA-CSEQDP"
      },
      "source": [
        "## Uniendo los datasets"
      ]
    },
    {
      "cell_type": "markdown",
      "metadata": {
        "id": "RcGlyBWoEQDP"
      },
      "source": [
        "Dado que tienen la misma Q de filas, vamos a unir por las columnas en común: pk_cid y pk_partition"
      ]
    },
    {
      "cell_type": "code",
      "execution_count": 190,
      "metadata": {
        "colab": {
          "base_uri": "https://localhost:8080/",
          "height": 226
        },
        "id": "SulqS_PNEQDQ",
        "outputId": "c4ed4acf-ff72-4964-ece3-673fdbb4d767"
      },
      "outputs": [
        {
          "data": {
            "text/html": [
              "<div>\n",
              "<style scoped>\n",
              "    .dataframe tbody tr th:only-of-type {\n",
              "        vertical-align: middle;\n",
              "    }\n",
              "\n",
              "    .dataframe tbody tr th {\n",
              "        vertical-align: top;\n",
              "    }\n",
              "\n",
              "    .dataframe thead th {\n",
              "        text-align: right;\n",
              "    }\n",
              "</style>\n",
              "<table border=\"1\" class=\"dataframe\">\n",
              "  <thead>\n",
              "    <tr style=\"text-align: right;\">\n",
              "      <th></th>\n",
              "      <th>pk_cid</th>\n",
              "      <th>pk_partition</th>\n",
              "      <th>short_term_deposit</th>\n",
              "      <th>loans</th>\n",
              "      <th>mortgage</th>\n",
              "      <th>funds</th>\n",
              "      <th>securities</th>\n",
              "      <th>long_term_deposit</th>\n",
              "      <th>em_account_pp</th>\n",
              "      <th>credit_card</th>\n",
              "      <th>payroll</th>\n",
              "      <th>pension_plan</th>\n",
              "      <th>payroll_account</th>\n",
              "      <th>emc_account</th>\n",
              "      <th>debit_card</th>\n",
              "      <th>em_account_p</th>\n",
              "      <th>em_acount</th>\n",
              "    </tr>\n",
              "  </thead>\n",
              "  <tbody>\n",
              "    <tr>\n",
              "      <th>0</th>\n",
              "      <td>1375586</td>\n",
              "      <td>2018-01-28</td>\n",
              "      <td>0</td>\n",
              "      <td>0</td>\n",
              "      <td>0</td>\n",
              "      <td>0</td>\n",
              "      <td>0</td>\n",
              "      <td>0</td>\n",
              "      <td>0</td>\n",
              "      <td>0</td>\n",
              "      <td>0.0</td>\n",
              "      <td>0.0</td>\n",
              "      <td>0</td>\n",
              "      <td>0</td>\n",
              "      <td>0</td>\n",
              "      <td>0</td>\n",
              "      <td>1</td>\n",
              "    </tr>\n",
              "    <tr>\n",
              "      <th>1</th>\n",
              "      <td>1050611</td>\n",
              "      <td>2018-01-28</td>\n",
              "      <td>0</td>\n",
              "      <td>0</td>\n",
              "      <td>0</td>\n",
              "      <td>0</td>\n",
              "      <td>0</td>\n",
              "      <td>0</td>\n",
              "      <td>0</td>\n",
              "      <td>0</td>\n",
              "      <td>0.0</td>\n",
              "      <td>0.0</td>\n",
              "      <td>0</td>\n",
              "      <td>0</td>\n",
              "      <td>0</td>\n",
              "      <td>0</td>\n",
              "      <td>1</td>\n",
              "    </tr>\n",
              "    <tr>\n",
              "      <th>2</th>\n",
              "      <td>1050612</td>\n",
              "      <td>2018-01-28</td>\n",
              "      <td>0</td>\n",
              "      <td>0</td>\n",
              "      <td>0</td>\n",
              "      <td>0</td>\n",
              "      <td>0</td>\n",
              "      <td>0</td>\n",
              "      <td>0</td>\n",
              "      <td>0</td>\n",
              "      <td>0.0</td>\n",
              "      <td>0.0</td>\n",
              "      <td>0</td>\n",
              "      <td>0</td>\n",
              "      <td>0</td>\n",
              "      <td>0</td>\n",
              "      <td>1</td>\n",
              "    </tr>\n",
              "    <tr>\n",
              "      <th>3</th>\n",
              "      <td>1050613</td>\n",
              "      <td>2018-01-28</td>\n",
              "      <td>1</td>\n",
              "      <td>0</td>\n",
              "      <td>0</td>\n",
              "      <td>0</td>\n",
              "      <td>0</td>\n",
              "      <td>0</td>\n",
              "      <td>0</td>\n",
              "      <td>0</td>\n",
              "      <td>0.0</td>\n",
              "      <td>0.0</td>\n",
              "      <td>0</td>\n",
              "      <td>0</td>\n",
              "      <td>0</td>\n",
              "      <td>0</td>\n",
              "      <td>0</td>\n",
              "    </tr>\n",
              "    <tr>\n",
              "      <th>4</th>\n",
              "      <td>1050614</td>\n",
              "      <td>2018-01-28</td>\n",
              "      <td>0</td>\n",
              "      <td>0</td>\n",
              "      <td>0</td>\n",
              "      <td>0</td>\n",
              "      <td>0</td>\n",
              "      <td>0</td>\n",
              "      <td>0</td>\n",
              "      <td>0</td>\n",
              "      <td>0.0</td>\n",
              "      <td>0.0</td>\n",
              "      <td>0</td>\n",
              "      <td>0</td>\n",
              "      <td>0</td>\n",
              "      <td>0</td>\n",
              "      <td>1</td>\n",
              "    </tr>\n",
              "  </tbody>\n",
              "</table>\n",
              "</div>"
            ],
            "text/plain": [
              "    pk_cid pk_partition  short_term_deposit  loans  mortgage  funds  \\\n",
              "0  1375586   2018-01-28                   0      0         0      0   \n",
              "1  1050611   2018-01-28                   0      0         0      0   \n",
              "2  1050612   2018-01-28                   0      0         0      0   \n",
              "3  1050613   2018-01-28                   1      0         0      0   \n",
              "4  1050614   2018-01-28                   0      0         0      0   \n",
              "\n",
              "   securities  long_term_deposit  em_account_pp  credit_card  payroll  \\\n",
              "0           0                  0              0            0      0.0   \n",
              "1           0                  0              0            0      0.0   \n",
              "2           0                  0              0            0      0.0   \n",
              "3           0                  0              0            0      0.0   \n",
              "4           0                  0              0            0      0.0   \n",
              "\n",
              "   pension_plan  payroll_account  emc_account  debit_card  em_account_p  \\\n",
              "0           0.0                0            0           0             0   \n",
              "1           0.0                0            0           0             0   \n",
              "2           0.0                0            0           0             0   \n",
              "3           0.0                0            0           0             0   \n",
              "4           0.0                0            0           0             0   \n",
              "\n",
              "   em_acount  \n",
              "0          1  \n",
              "1          1  \n",
              "2          1  \n",
              "3          0  \n",
              "4          1  "
            ]
          },
          "execution_count": 190,
          "metadata": {},
          "output_type": "execute_result"
        }
      ],
      "source": [
        "df_products.head()"
      ]
    },
    {
      "cell_type": "code",
      "execution_count": 191,
      "metadata": {
        "id": "4uXtm52dEQDQ"
      },
      "outputs": [],
      "source": [
        "df=df_com_act.merge(df_products, how='left', on=['pk_cid', 'pk_partition'])\\\n",
        "            .merge(df_sociodem, how='left', on=['pk_cid', 'pk_partition'])"
      ]
    },
    {
      "cell_type": "code",
      "execution_count": 192,
      "metadata": {
        "colab": {
          "base_uri": "https://localhost:8080/",
          "height": 313
        },
        "id": "y9jv-sB8EQDQ",
        "outputId": "60d96425-21c6-4338-b385-b09654a310fa"
      },
      "outputs": [
        {
          "data": {
            "text/html": [
              "<div>\n",
              "<style scoped>\n",
              "    .dataframe tbody tr th:only-of-type {\n",
              "        vertical-align: middle;\n",
              "    }\n",
              "\n",
              "    .dataframe tbody tr th {\n",
              "        vertical-align: top;\n",
              "    }\n",
              "\n",
              "    .dataframe thead th {\n",
              "        text-align: right;\n",
              "    }\n",
              "</style>\n",
              "<table border=\"1\" class=\"dataframe\">\n",
              "  <thead>\n",
              "    <tr style=\"text-align: right;\">\n",
              "      <th></th>\n",
              "      <th>pk_cid</th>\n",
              "      <th>pk_partition</th>\n",
              "      <th>entry_date</th>\n",
              "      <th>entry_channel</th>\n",
              "      <th>active_customer</th>\n",
              "      <th>segment</th>\n",
              "      <th>short_term_deposit</th>\n",
              "      <th>loans</th>\n",
              "      <th>mortgage</th>\n",
              "      <th>funds</th>\n",
              "      <th>securities</th>\n",
              "      <th>long_term_deposit</th>\n",
              "      <th>em_account_pp</th>\n",
              "      <th>credit_card</th>\n",
              "      <th>payroll</th>\n",
              "      <th>pension_plan</th>\n",
              "      <th>payroll_account</th>\n",
              "      <th>emc_account</th>\n",
              "      <th>debit_card</th>\n",
              "      <th>em_account_p</th>\n",
              "      <th>em_acount</th>\n",
              "      <th>country_id</th>\n",
              "      <th>region_code</th>\n",
              "      <th>gender</th>\n",
              "      <th>age</th>\n",
              "      <th>deceased</th>\n",
              "      <th>salary</th>\n",
              "    </tr>\n",
              "  </thead>\n",
              "  <tbody>\n",
              "    <tr>\n",
              "      <th>0</th>\n",
              "      <td>1375586</td>\n",
              "      <td>2018-01-28</td>\n",
              "      <td>2018-01-12</td>\n",
              "      <td>KHL</td>\n",
              "      <td>1.0</td>\n",
              "      <td>02 - PARTICULARES</td>\n",
              "      <td>0</td>\n",
              "      <td>0</td>\n",
              "      <td>0</td>\n",
              "      <td>0</td>\n",
              "      <td>0</td>\n",
              "      <td>0</td>\n",
              "      <td>0</td>\n",
              "      <td>0</td>\n",
              "      <td>0.0</td>\n",
              "      <td>0.0</td>\n",
              "      <td>0</td>\n",
              "      <td>0</td>\n",
              "      <td>0</td>\n",
              "      <td>0</td>\n",
              "      <td>1</td>\n",
              "      <td>ES</td>\n",
              "      <td>29.0</td>\n",
              "      <td>H</td>\n",
              "      <td>35</td>\n",
              "      <td>N</td>\n",
              "      <td>87218.10</td>\n",
              "    </tr>\n",
              "    <tr>\n",
              "      <th>1</th>\n",
              "      <td>1050611</td>\n",
              "      <td>2018-01-28</td>\n",
              "      <td>2015-08-10</td>\n",
              "      <td>KHE</td>\n",
              "      <td>0.0</td>\n",
              "      <td>03 - UNIVERSITARIO</td>\n",
              "      <td>0</td>\n",
              "      <td>0</td>\n",
              "      <td>0</td>\n",
              "      <td>0</td>\n",
              "      <td>0</td>\n",
              "      <td>0</td>\n",
              "      <td>0</td>\n",
              "      <td>0</td>\n",
              "      <td>0.0</td>\n",
              "      <td>0.0</td>\n",
              "      <td>0</td>\n",
              "      <td>0</td>\n",
              "      <td>0</td>\n",
              "      <td>0</td>\n",
              "      <td>1</td>\n",
              "      <td>ES</td>\n",
              "      <td>13.0</td>\n",
              "      <td>V</td>\n",
              "      <td>23</td>\n",
              "      <td>N</td>\n",
              "      <td>35548.74</td>\n",
              "    </tr>\n",
              "    <tr>\n",
              "      <th>2</th>\n",
              "      <td>1050612</td>\n",
              "      <td>2018-01-28</td>\n",
              "      <td>2015-08-10</td>\n",
              "      <td>KHE</td>\n",
              "      <td>0.0</td>\n",
              "      <td>03 - UNIVERSITARIO</td>\n",
              "      <td>0</td>\n",
              "      <td>0</td>\n",
              "      <td>0</td>\n",
              "      <td>0</td>\n",
              "      <td>0</td>\n",
              "      <td>0</td>\n",
              "      <td>0</td>\n",
              "      <td>0</td>\n",
              "      <td>0.0</td>\n",
              "      <td>0.0</td>\n",
              "      <td>0</td>\n",
              "      <td>0</td>\n",
              "      <td>0</td>\n",
              "      <td>0</td>\n",
              "      <td>1</td>\n",
              "      <td>ES</td>\n",
              "      <td>13.0</td>\n",
              "      <td>V</td>\n",
              "      <td>23</td>\n",
              "      <td>N</td>\n",
              "      <td>122179.11</td>\n",
              "    </tr>\n",
              "    <tr>\n",
              "      <th>3</th>\n",
              "      <td>1050613</td>\n",
              "      <td>2018-01-28</td>\n",
              "      <td>2015-08-10</td>\n",
              "      <td>KHD</td>\n",
              "      <td>0.0</td>\n",
              "      <td>03 - UNIVERSITARIO</td>\n",
              "      <td>1</td>\n",
              "      <td>0</td>\n",
              "      <td>0</td>\n",
              "      <td>0</td>\n",
              "      <td>0</td>\n",
              "      <td>0</td>\n",
              "      <td>0</td>\n",
              "      <td>0</td>\n",
              "      <td>0.0</td>\n",
              "      <td>0.0</td>\n",
              "      <td>0</td>\n",
              "      <td>0</td>\n",
              "      <td>0</td>\n",
              "      <td>0</td>\n",
              "      <td>0</td>\n",
              "      <td>ES</td>\n",
              "      <td>50.0</td>\n",
              "      <td>H</td>\n",
              "      <td>22</td>\n",
              "      <td>N</td>\n",
              "      <td>119775.54</td>\n",
              "    </tr>\n",
              "    <tr>\n",
              "      <th>4</th>\n",
              "      <td>1050614</td>\n",
              "      <td>2018-01-28</td>\n",
              "      <td>2015-08-10</td>\n",
              "      <td>KHE</td>\n",
              "      <td>1.0</td>\n",
              "      <td>03 - UNIVERSITARIO</td>\n",
              "      <td>0</td>\n",
              "      <td>0</td>\n",
              "      <td>0</td>\n",
              "      <td>0</td>\n",
              "      <td>0</td>\n",
              "      <td>0</td>\n",
              "      <td>0</td>\n",
              "      <td>0</td>\n",
              "      <td>0.0</td>\n",
              "      <td>0.0</td>\n",
              "      <td>0</td>\n",
              "      <td>0</td>\n",
              "      <td>0</td>\n",
              "      <td>0</td>\n",
              "      <td>1</td>\n",
              "      <td>ES</td>\n",
              "      <td>50.0</td>\n",
              "      <td>V</td>\n",
              "      <td>23</td>\n",
              "      <td>N</td>\n",
              "      <td>NaN</td>\n",
              "    </tr>\n",
              "  </tbody>\n",
              "</table>\n",
              "</div>"
            ],
            "text/plain": [
              "    pk_cid pk_partition  entry_date entry_channel  active_customer  \\\n",
              "0  1375586   2018-01-28  2018-01-12           KHL              1.0   \n",
              "1  1050611   2018-01-28  2015-08-10           KHE              0.0   \n",
              "2  1050612   2018-01-28  2015-08-10           KHE              0.0   \n",
              "3  1050613   2018-01-28  2015-08-10           KHD              0.0   \n",
              "4  1050614   2018-01-28  2015-08-10           KHE              1.0   \n",
              "\n",
              "              segment  short_term_deposit  loans  mortgage  funds  securities  \\\n",
              "0   02 - PARTICULARES                   0      0         0      0           0   \n",
              "1  03 - UNIVERSITARIO                   0      0         0      0           0   \n",
              "2  03 - UNIVERSITARIO                   0      0         0      0           0   \n",
              "3  03 - UNIVERSITARIO                   1      0         0      0           0   \n",
              "4  03 - UNIVERSITARIO                   0      0         0      0           0   \n",
              "\n",
              "   long_term_deposit  em_account_pp  credit_card  payroll  pension_plan  \\\n",
              "0                  0              0            0      0.0           0.0   \n",
              "1                  0              0            0      0.0           0.0   \n",
              "2                  0              0            0      0.0           0.0   \n",
              "3                  0              0            0      0.0           0.0   \n",
              "4                  0              0            0      0.0           0.0   \n",
              "\n",
              "   payroll_account  emc_account  debit_card  em_account_p  em_acount  \\\n",
              "0                0            0           0             0          1   \n",
              "1                0            0           0             0          1   \n",
              "2                0            0           0             0          1   \n",
              "3                0            0           0             0          0   \n",
              "4                0            0           0             0          1   \n",
              "\n",
              "  country_id  region_code gender  age deceased     salary  \n",
              "0         ES         29.0      H   35        N   87218.10  \n",
              "1         ES         13.0      V   23        N   35548.74  \n",
              "2         ES         13.0      V   23        N  122179.11  \n",
              "3         ES         50.0      H   22        N  119775.54  \n",
              "4         ES         50.0      V   23        N        NaN  "
            ]
          },
          "execution_count": 192,
          "metadata": {},
          "output_type": "execute_result"
        }
      ],
      "source": [
        "df.head()"
      ]
    },
    {
      "cell_type": "markdown",
      "metadata": {
        "id": "Qs8xOajkEQDR"
      },
      "source": [
        "# Data cleaning"
      ]
    },
    {
      "cell_type": "markdown",
      "metadata": {
        "id": "FSRRBgRJEQDS"
      },
      "source": [
        "## Variables con nulos"
      ]
    },
    {
      "cell_type": "code",
      "execution_count": 193,
      "metadata": {
        "colab": {
          "base_uri": "https://localhost:8080/"
        },
        "id": "_MOrQ_GYEQDS",
        "outputId": "46dace20-06d0-4e96-8485-d06575b30b27"
      },
      "outputs": [
        {
          "name": "stdout",
          "output_type": "stream",
          "text": [
            "<class 'pandas.core.frame.DataFrame'>\n",
            "RangeIndex: 5962924 entries, 0 to 5962923\n",
            "Data columns (total 27 columns):\n",
            " #   Column              Dtype  \n",
            "---  ------              -----  \n",
            " 0   pk_cid              int64  \n",
            " 1   pk_partition        object \n",
            " 2   entry_date          object \n",
            " 3   entry_channel       object \n",
            " 4   active_customer     float64\n",
            " 5   segment             object \n",
            " 6   short_term_deposit  int64  \n",
            " 7   loans               int64  \n",
            " 8   mortgage            int64  \n",
            " 9   funds               int64  \n",
            " 10  securities          int64  \n",
            " 11  long_term_deposit   int64  \n",
            " 12  em_account_pp       int64  \n",
            " 13  credit_card         int64  \n",
            " 14  payroll             float64\n",
            " 15  pension_plan        float64\n",
            " 16  payroll_account     int64  \n",
            " 17  emc_account         int64  \n",
            " 18  debit_card          int64  \n",
            " 19  em_account_p        int64  \n",
            " 20  em_acount           int64  \n",
            " 21  country_id          object \n",
            " 22  region_code         float64\n",
            " 23  gender              object \n",
            " 24  age                 int64  \n",
            " 25  deceased            object \n",
            " 26  salary              float64\n",
            "dtypes: float64(5), int64(15), object(7)\n",
            "memory usage: 1.2+ GB\n"
          ]
        }
      ],
      "source": [
        "df.info()"
      ]
    },
    {
      "cell_type": "code",
      "execution_count": 194,
      "metadata": {
        "colab": {
          "base_uri": "https://localhost:8080/"
        },
        "id": "8L6-KkrNEQDS",
        "outputId": "239e1ae1-c24a-49dd-ac22-f87b11e7134d"
      },
      "outputs": [
        {
          "data": {
            "text/plain": [
              "pk_cid                      0\n",
              "pk_partition                0\n",
              "entry_date                  0\n",
              "entry_channel          133033\n",
              "active_customer             0\n",
              "segment                133944\n",
              "short_term_deposit          0\n",
              "loans                       0\n",
              "mortgage                    0\n",
              "funds                       0\n",
              "securities                  0\n",
              "long_term_deposit           0\n",
              "em_account_pp               0\n",
              "credit_card                 0\n",
              "payroll                    61\n",
              "pension_plan               61\n",
              "payroll_account             0\n",
              "emc_account                 0\n",
              "debit_card                  0\n",
              "em_account_p                0\n",
              "em_acount                   0\n",
              "country_id                  0\n",
              "region_code              2264\n",
              "gender                     25\n",
              "age                         0\n",
              "deceased                    0\n",
              "salary                1512103\n",
              "dtype: int64"
            ]
          },
          "execution_count": 194,
          "metadata": {},
          "output_type": "execute_result"
        }
      ],
      "source": [
        "df.isna().sum()"
      ]
    },
    {
      "cell_type": "markdown",
      "metadata": {
        "id": "OK7h7Es5EQDT"
      },
      "source": [
        "### Variable region code"
      ]
    },
    {
      "cell_type": "markdown",
      "metadata": {
        "id": "o89GRLqQEQDT"
      },
      "source": [
        "Aquí he mapeado las regiones según el código asociado a la comunidad autónoma, y para los valores nan he puesto 999: desconocido."
      ]
    },
    {
      "cell_type": "code",
      "execution_count": 195,
      "metadata": {
        "colab": {
          "base_uri": "https://localhost:8080/"
        },
        "id": "Tf4lRzvoEQDT",
        "outputId": "54dcd982-ad7d-406f-bac9-47a0951b2363"
      },
      "outputs": [
        {
          "data": {
            "text/plain": [
              "52.0"
            ]
          },
          "execution_count": 195,
          "metadata": {},
          "output_type": "execute_result"
        }
      ],
      "source": [
        "df.region_code.max()"
      ]
    },
    {
      "cell_type": "code",
      "execution_count": 196,
      "metadata": {
        "colab": {
          "base_uri": "https://localhost:8080/"
        },
        "id": "SbdbR2N3EQDU",
        "outputId": "6334d8d6-6726-49de-bc43-17f4a1e80c7e"
      },
      "outputs": [
        {
          "data": {
            "text/plain": [
              "1.0"
            ]
          },
          "execution_count": 196,
          "metadata": {},
          "output_type": "execute_result"
        }
      ],
      "source": [
        "df.region_code.min()"
      ]
    },
    {
      "cell_type": "code",
      "execution_count": 197,
      "metadata": {
        "colab": {
          "base_uri": "https://localhost:8080/"
        },
        "id": "86L7JZr0EQDU",
        "outputId": "84054643-5ac6-44b8-888b-34aca92fdfcb"
      },
      "outputs": [
        {
          "data": {
            "text/plain": [
              "country_id\n",
              "ES    5960672\n",
              "GB        441\n",
              "FR        225\n",
              "DE        199\n",
              "US        195\n",
              "CH        194\n",
              "BR         87\n",
              "BE         81\n",
              "VE         79\n",
              "IE         68\n",
              "MX         58\n",
              "AT         51\n",
              "AR         51\n",
              "PL         49\n",
              "IT         45\n",
              "MA         34\n",
              "CL         30\n",
              "CN         28\n",
              "CA         22\n",
              "LU         17\n",
              "ET         17\n",
              "QA         17\n",
              "CI         17\n",
              "SA         17\n",
              "CM         17\n",
              "SN         17\n",
              "MR         17\n",
              "NO         17\n",
              "RU         17\n",
              "CO         17\n",
              "GA         17\n",
              "GT         17\n",
              "DO         17\n",
              "SE         16\n",
              "DJ         11\n",
              "PT         11\n",
              "JM         11\n",
              "RO          9\n",
              "HU          8\n",
              "DZ          7\n",
              "PE          4\n",
              "Name: count, dtype: int64"
            ]
          },
          "execution_count": 197,
          "metadata": {},
          "output_type": "execute_result"
        }
      ],
      "source": [
        "df.country_id.value_counts()"
      ]
    },
    {
      "cell_type": "code",
      "execution_count": 198,
      "metadata": {
        "id": "7YdgV7DaEQDU"
      },
      "outputs": [],
      "source": [
        "#he comprobado con df.query que la mayoría de regiones (excepto 12 son de países fuera de España)\n",
        "#esto tiene sentido porque sospecho que los números equivalen a provincias españolas (según el INE), no hay ningún número\n",
        "# de región asociado en el resto de países\n",
        "# Por eso, reemplazo los nulos con 999, dado que no tiene sentido sustituirlos por otra cosa\n",
        "df['region_code']=np.where(df['region_code'].isna(),999,df['region_code'])"
      ]
    },
    {
      "cell_type": "code",
      "execution_count": 199,
      "metadata": {
        "id": "7yAHPPrnEQDV"
      },
      "outputs": [],
      "source": [
        "# Compruebo que no quedan nulos, y cambio el tipo de variable a categórica (para que el futuro modelo no lo interprete como nº)\n",
        "df.region_code.isna().any()\n",
        "df['region_code']=df.region_code.astype('category')"
      ]
    },
    {
      "cell_type": "code",
      "execution_count": 200,
      "metadata": {
        "id": "H8pkzHHBEQDV"
      },
      "outputs": [],
      "source": [
        "# Quiero crear una columna adicional que contenga los valores de las provincias españolas:\n",
        "regions={1:'Alava',\n",
        "2:'Albacete',\n",
        "3:'Alicante',\n",
        "4:'Almeria',\n",
        "5:'Avila',\n",
        "6:'Badajoz',\n",
        "7:'Baleares',\n",
        "8:'Barcelona',\n",
        "9:'Burgos',\n",
        "10:'Caceres',\n",
        "11:'Cadiz',\n",
        "12:'Castellon',\n",
        "13:'Ciudad Real',\n",
        "14:'Cordoba',\n",
        "15:'La Coruna',\n",
        "16:'Cuenca',\n",
        "17:'Gerona',\n",
        "18:'Granada',\n",
        "19:'Guadalajara',\n",
        "20:'Guipuzcoa',\n",
        "21:'Huelva',\n",
        "22:'Huesca',\n",
        "23:'Jaen',\n",
        "24:'Leon',\n",
        "25:'Lerida',\n",
        "26:'La Rioja',\n",
        "27:'Lugo',\n",
        "28:'Madrid',\n",
        "29:'Malaga',\n",
        "30:'Murcia',\n",
        "31:'Navarra',\n",
        "32:'Orense',\n",
        "33:'Asturias',\n",
        "34:'Palencia',\n",
        "35:'Las Palmas',\n",
        "36:'Pontevedra',\n",
        "37:'Salamanca',\n",
        "38:'Santa Cruz de Tenerife',\n",
        "39:'Cantabria',\n",
        "40:'Segovia',\n",
        "41:'Sevilla',\n",
        "42:'Soria',\n",
        "43:'Tarragona',\n",
        "44:'Teruel',\n",
        "45:'Toledo',\n",
        "46:'Valencia',\n",
        "47:'Valladolid',\n",
        "48:'Vizcaya',\n",
        "49:'Zamora',\n",
        "50:'Zaragoza',\n",
        "51:'Ceuta',\n",
        "52:'Melilla',\n",
        "999:'Desconocido'}\n",
        "\n",
        "df['region_name']=df.region_code.map(regions)"
      ]
    },
    {
      "cell_type": "markdown",
      "metadata": {
        "id": "u_c2yH2KEQDW"
      },
      "source": [
        "### Variable deceased"
      ]
    },
    {
      "cell_type": "markdown",
      "metadata": {
        "id": "IX_P2H8rEQDW"
      },
      "source": [
        "Convierto variable en 1 si es deceased y 0 si no, para el futuro modelo (como no hay nulos, solo hay dos categorías y la podemos transformar en 0s y 1s directamente)."
      ]
    },
    {
      "cell_type": "code",
      "execution_count": 201,
      "metadata": {
        "colab": {
          "base_uri": "https://localhost:8080/"
        },
        "id": "FkyQkeF4EQDW",
        "outputId": "8ec7e0b8-3832-4c65-e7ff-707a9faf4bcd"
      },
      "outputs": [
        {
          "data": {
            "text/plain": [
              "deceased\n",
              "N    5961849\n",
              "S       1075\n",
              "Name: count, dtype: int64"
            ]
          },
          "execution_count": 201,
          "metadata": {},
          "output_type": "execute_result"
        }
      ],
      "source": [
        "df.deceased.value_counts()"
      ]
    },
    {
      "cell_type": "code",
      "execution_count": 202,
      "metadata": {
        "id": "z4NglKYHEQDX"
      },
      "outputs": [],
      "source": [
        "df['deceased']=np.where(df['deceased']=='N',0,1)"
      ]
    },
    {
      "cell_type": "markdown",
      "metadata": {
        "id": "Gq-nAzuSEQDX"
      },
      "source": [
        "### Variable gender"
      ]
    },
    {
      "cell_type": "code",
      "execution_count": 203,
      "metadata": {
        "id": "9JxAJ3YGEQDX"
      },
      "outputs": [],
      "source": [
        "df['gender']=np.where(df['gender'].isna(),'desconocido',df['gender'])\n",
        "# de momento lo dejo así, pero más adeante habría que convertirla en dummies (no 0 y 1 porque algunos no los sabemos)"
      ]
    },
    {
      "cell_type": "code",
      "execution_count": 204,
      "metadata": {
        "colab": {
          "base_uri": "https://localhost:8080/"
        },
        "id": "Tlbh8CylEQDY",
        "outputId": "c9a6fbd3-05de-48f1-91a0-ae6e171b9146"
      },
      "outputs": [
        {
          "data": {
            "text/plain": [
              "gender\n",
              "H              0.517783\n",
              "V              0.482213\n",
              "desconocido    0.000004\n",
              "Name: proportion, dtype: float64"
            ]
          },
          "execution_count": 204,
          "metadata": {},
          "output_type": "execute_result"
        }
      ],
      "source": [
        "df.gender.value_counts(normalize=True) #muy bien distribuida en términos de género"
      ]
    },
    {
      "cell_type": "markdown",
      "metadata": {
        "id": "i4HEf_TdEQDY"
      },
      "source": [
        "### Variable segment"
      ]
    },
    {
      "cell_type": "code",
      "execution_count": 205,
      "metadata": {
        "colab": {
          "base_uri": "https://localhost:8080/"
        },
        "id": "kL3MzvqyEQDY",
        "outputId": "02c018e9-4813-4f80-9c2e-a7bde37ac8fa"
      },
      "outputs": [
        {
          "data": {
            "text/plain": [
              "segment\n",
              "03 - UNIVERSITARIO    3900166\n",
              "02 - PARTICULARES     1830875\n",
              "01 - TOP                97939\n",
              "Name: count, dtype: int64"
            ]
          },
          "execution_count": 205,
          "metadata": {},
          "output_type": "execute_result"
        }
      ],
      "source": [
        "df.segment.value_counts()"
      ]
    },
    {
      "cell_type": "code",
      "execution_count": 206,
      "metadata": {
        "id": "gYi-qS9rEQDY"
      },
      "outputs": [],
      "source": [
        "df['segment']=np.where(df['segment']=='03 - UNIVERSITARIO','universitario',df['segment'])\n",
        "df['segment']=np.where(df['segment']=='02 - PARTICULARES','particulares',df['segment'])\n",
        "df['segment']=np.where(df['segment']=='01 - TOP','top',df['segment'])\n",
        "df['segment']=np.where(df['segment'].isna(),'desconocido',df['segment'])"
      ]
    },
    {
      "cell_type": "markdown",
      "metadata": {
        "id": "x86bDjXqEQDY"
      },
      "source": [
        "### Variable entry channel"
      ]
    },
    {
      "cell_type": "code",
      "execution_count": 207,
      "metadata": {
        "colab": {
          "base_uri": "https://localhost:8080/"
        },
        "id": "zQf8Ks2NEQDa",
        "outputId": "a49ae8e0-d610-487d-e0a3-a0cb44c778bf"
      },
      "outputs": [
        {
          "data": {
            "text/plain": [
              "entry_channel\n",
              "KHE    3113947\n",
              "KFC     890620\n",
              "KHQ     590280\n",
              "KAT     416084\n",
              "KHK     230197\n",
              "        ...   \n",
              "KEJ          8\n",
              "KHS          5\n",
              "KDA          2\n",
              "KFP          2\n",
              "KDS          1\n",
              "Name: count, Length: 68, dtype: int64"
            ]
          },
          "execution_count": 207,
          "metadata": {},
          "output_type": "execute_result"
        }
      ],
      "source": [
        "df.entry_channel.value_counts()"
      ]
    },
    {
      "cell_type": "code",
      "execution_count": 208,
      "metadata": {
        "colab": {
          "base_uri": "https://localhost:8080/"
        },
        "id": "2HDqVUHCEQDa",
        "outputId": "590b9cdc-319a-4e31-edb6-062f5d5bc902"
      },
      "outputs": [
        {
          "data": {
            "text/plain": [
              "133033"
            ]
          },
          "execution_count": 208,
          "metadata": {},
          "output_type": "execute_result"
        }
      ],
      "source": [
        "df.entry_channel.isna().sum()"
      ]
    },
    {
      "cell_type": "code",
      "execution_count": 209,
      "metadata": {
        "id": "Ps1ruEinEQDa"
      },
      "outputs": [],
      "source": [
        "df['entry_channel']=np.where(df['entry_channel'].isna(),'UNKNOWN',df['entry_channel'])"
      ]
    },
    {
      "cell_type": "code",
      "execution_count": 210,
      "metadata": {
        "id": "UzayOJRaEQDa"
      },
      "outputs": [],
      "source": [
        "df['entry_channel']=df.entry_channel.astype('category')"
      ]
    },
    {
      "cell_type": "markdown",
      "metadata": {
        "id": "AibcH1fTEQDa"
      },
      "source": [
        "### Variable payroll"
      ]
    },
    {
      "cell_type": "code",
      "execution_count": 211,
      "metadata": {
        "colab": {
          "base_uri": "https://localhost:8080/"
        },
        "id": "u8C4h4ptEQDb",
        "outputId": "36881d9d-f93a-489b-c2b4-55c61e58ea73"
      },
      "outputs": [
        {
          "data": {
            "text/plain": [
              "payroll\n",
              "0.0    0.965489\n",
              "1.0    0.034511\n",
              "Name: proportion, dtype: float64"
            ]
          },
          "execution_count": 211,
          "metadata": {},
          "output_type": "execute_result"
        }
      ],
      "source": [
        "df.payroll.value_counts(normalize=True) # muy desbalanceado"
      ]
    },
    {
      "cell_type": "code",
      "execution_count": 212,
      "metadata": {
        "colab": {
          "base_uri": "https://localhost:8080/",
          "height": 1000
        },
        "id": "dbOAOaMREQDc",
        "outputId": "d7ec39f4-6f9f-4392-9f2b-6f7c603976d5"
      },
      "outputs": [
        {
          "data": {
            "text/plain": [
              "'Aquí quería comprobar si los nulos tienen otros productos, pero solo en 3 casos es así, 2 con tarjeta de débito y una con cuenta easy money (em_account).\\nNo veo patrones, así que al ser pocos, decido reemplazarlos por la mayoría, 0'"
            ]
          },
          "execution_count": 212,
          "metadata": {},
          "output_type": "execute_result"
        }
      ],
      "source": [
        "'''Aquí quería comprobar si los nulos tienen otros productos, pero solo en 3 casos es así, 2 con tarjeta de débito y una con cuenta easy money (em_account).\n",
        "No veo patrones, así que al ser pocos, decido reemplazarlos por la mayoría, 0'''\n",
        "# columnas_relevantes = ['payroll', 'pension_plan', 'short_term_deposit', 'loans', 'mortgage', 'funds',\n",
        "#                         'securities', 'long_term_deposit', 'em_account_pp', 'credit_card',\n",
        "#                         'payroll_account', 'emc_account', 'debit_card', 'em_account_p', 'em_acount']\n",
        "\n",
        "\n",
        "# # Filtra las filas donde 'payroll' y 'pension_plan' son nulos\n",
        "# filas_con_nulos = df[df['payroll'].isnull() & df['pension_plan'].isnull()]\n",
        "\n",
        "# # Verifica si alguna de las columnas booleanas tiene algún valor en esas filas\n",
        "# resultado = filas_con_nulos[columnas_relevantes].any(axis=1)\n",
        "\n",
        "# # Filtra las filas relevantes\n",
        "# filas_relevantes = filas_con_nulos[resultado]\n",
        "\n",
        "# # Muestra las filas relevantes\n",
        "# print(filas_relevantes)"
      ]
    },
    {
      "cell_type": "code",
      "execution_count": 213,
      "metadata": {
        "id": "lI8SiD75EQDc"
      },
      "outputs": [],
      "source": [
        "df['payroll']=np.where(df['payroll'].isna(),0,df['payroll'])"
      ]
    },
    {
      "cell_type": "markdown",
      "metadata": {
        "id": "QqpVXEw7EQDc"
      },
      "source": [
        "### Variable pension_plan"
      ]
    },
    {
      "cell_type": "code",
      "execution_count": 214,
      "metadata": {
        "colab": {
          "base_uri": "https://localhost:8080/"
        },
        "id": "1jlmUMIHEQDd",
        "outputId": "c0803b77-76f5-48b3-c157-0d05fc18133d"
      },
      "outputs": [
        {
          "data": {
            "text/plain": [
              "pension_plan\n",
              "0.0    0.963474\n",
              "1.0    0.036526\n",
              "Name: proportion, dtype: float64"
            ]
          },
          "execution_count": 214,
          "metadata": {},
          "output_type": "execute_result"
        }
      ],
      "source": [
        "df.pension_plan.value_counts(normalize=True)"
      ]
    },
    {
      "cell_type": "code",
      "execution_count": 215,
      "metadata": {
        "id": "MsdLl3XiEQDd"
      },
      "outputs": [],
      "source": [
        "df['pension_plan']=np.where(df['pension_plan'].isna(),0,df['pension_plan'])"
      ]
    },
    {
      "cell_type": "markdown",
      "metadata": {
        "id": "HOuVuwLnEQDd"
      },
      "source": [
        "### Variable salary"
      ]
    },
    {
      "cell_type": "code",
      "execution_count": 216,
      "metadata": {
        "colab": {
          "base_uri": "https://localhost:8080/"
        },
        "id": "DnTjvdP8EQDd",
        "outputId": "a5ca8104-b01b-4f62-9da3-3850a0747ff6"
      },
      "outputs": [
        {
          "data": {
            "text/plain": [
              "count    4.450821e+06\n",
              "mean     1.158167e+05\n",
              "std      1.995519e+05\n",
              "min      1.202730e+03\n",
              "25%      6.150063e+04\n",
              "50%      8.865465e+04\n",
              "75%      1.316699e+05\n",
              "max      2.889440e+07\n",
              "Name: salary, dtype: float64"
            ]
          },
          "execution_count": 216,
          "metadata": {},
          "output_type": "execute_result"
        }
      ],
      "source": [
        "df.salary.describe()"
      ]
    },
    {
      "cell_type": "code",
      "execution_count": 217,
      "metadata": {
        "id": "zXxf-rbaEQDe"
      },
      "outputs": [
        {
          "data": {
            "image/png": "[encoded data removed]",
            "text/plain": [
              "<Figure size 640x480 with 1 Axes>"
            ]
          },
          "metadata": {},
          "output_type": "display_data"
        }
      ],
      "source": [
        "plt.hist(df['salary'], bins=30, color='blue', edgecolor='black',log=True)\n",
        "plt.xlabel('Salary')\n",
        "plt.ylabel('Frequency')\n",
        "plt.title('Distribución del salario')\n",
        "plt.show()"
      ]
    },
    {
      "cell_type": "code",
      "execution_count": 218,
      "metadata": {
        "id": "RIsR722TEQDe"
      },
      "outputs": [
        {
          "data": {
            "text/html": [
              "<div>\n",
              "<style scoped>\n",
              "    .dataframe tbody tr th:only-of-type {\n",
              "        vertical-align: middle;\n",
              "    }\n",
              "\n",
              "    .dataframe tbody tr th {\n",
              "        vertical-align: top;\n",
              "    }\n",
              "\n",
              "    .dataframe thead th {\n",
              "        text-align: right;\n",
              "    }\n",
              "</style>\n",
              "<table border=\"1\" class=\"dataframe\">\n",
              "  <thead>\n",
              "    <tr style=\"text-align: right;\">\n",
              "      <th></th>\n",
              "      <th>pk_cid</th>\n",
              "      <th>pk_partition</th>\n",
              "      <th>entry_date</th>\n",
              "      <th>entry_channel</th>\n",
              "      <th>active_customer</th>\n",
              "      <th>segment</th>\n",
              "      <th>short_term_deposit</th>\n",
              "      <th>loans</th>\n",
              "      <th>mortgage</th>\n",
              "      <th>funds</th>\n",
              "      <th>securities</th>\n",
              "      <th>long_term_deposit</th>\n",
              "      <th>em_account_pp</th>\n",
              "      <th>credit_card</th>\n",
              "      <th>payroll</th>\n",
              "      <th>pension_plan</th>\n",
              "      <th>payroll_account</th>\n",
              "      <th>emc_account</th>\n",
              "      <th>debit_card</th>\n",
              "      <th>em_account_p</th>\n",
              "      <th>em_acount</th>\n",
              "      <th>country_id</th>\n",
              "      <th>region_code</th>\n",
              "      <th>gender</th>\n",
              "      <th>age</th>\n",
              "      <th>deceased</th>\n",
              "      <th>salary</th>\n",
              "      <th>region_name</th>\n",
              "    </tr>\n",
              "  </thead>\n",
              "  <tbody>\n",
              "  </tbody>\n",
              "</table>\n",
              "</div>"
            ],
            "text/plain": [
              "Empty DataFrame\n",
              "Columns: [pk_cid, pk_partition, entry_date, entry_channel, active_customer, segment, short_term_deposit, loans, mortgage, funds, securities, long_term_deposit, em_account_pp, credit_card, payroll, pension_plan, payroll_account, emc_account, debit_card, em_account_p, em_acount, country_id, region_code, gender, age, deceased, salary, region_name]\n",
              "Index: []"
            ]
          },
          "execution_count": 218,
          "metadata": {},
          "output_type": "execute_result"
        }
      ],
      "source": [
        "df.query('salary<0')"
      ]
    },
    {
      "cell_type": "markdown",
      "metadata": {
        "id": "WSt3zSG5EQDe"
      },
      "source": [
        "Voy a crear una variable categórica para analizar el salario según cuadro grupos (salario bajo, medio bajo, medio alto y alto) usando los cuantiles."
      ]
    },
    {
      "cell_type": "code",
      "execution_count": 219,
      "metadata": {},
      "outputs": [
        {
          "data": {
            "text/plain": [
              "count    4.450821e+06\n",
              "mean     1.158167e+05\n",
              "std      1.995519e+05\n",
              "min      1.202730e+03\n",
              "25%      6.150063e+04\n",
              "50%      8.865465e+04\n",
              "75%      1.316699e+05\n",
              "max      2.889440e+07\n",
              "Name: salary, dtype: float64"
            ]
          },
          "execution_count": 219,
          "metadata": {},
          "output_type": "execute_result"
        }
      ],
      "source": [
        "cuantiles = df['salary'].describe(percentiles=[0.25, 0.5, 0.75])\n",
        "cuantiles"
      ]
    },
    {
      "cell_type": "code",
      "execution_count": 220,
      "metadata": {
        "id": "iTgkE5-OEQDf"
      },
      "outputs": [],
      "source": [
        "df.loc[ (df['salary'] <= 61500.63), 'salary_categ'  ]='salario_bajo'\n",
        "df.loc[ (df['salary'] > 61500.63) & (df['salary'] <= 88654.65), 'salary_categ'  ]='salario_mediobajo'\n",
        "df.loc[ (df['salary'] >  88654.65) & (df['salary'] <= 131669.91), 'salary_categ'  ]='salario_medioalto'\n",
        "df.loc[ (df['salary'] > 131669.91) , 'salary_categ'  ]='salario_alto'\n",
        "df.loc[ (df['salary'].isnull()) , 'salary_categ'  ]='Desconocido'"
      ]
    },
    {
      "cell_type": "code",
      "execution_count": 221,
      "metadata": {},
      "outputs": [],
      "source": [
        "df.salary.fillna(-999, inplace=True)"
      ]
    },
    {
      "cell_type": "code",
      "execution_count": 222,
      "metadata": {
        "id": "FISzsd9KEQDf"
      },
      "outputs": [],
      "source": [
        "clases=df.salary_categ.value_counts()"
      ]
    },
    {
      "cell_type": "code",
      "execution_count": 223,
      "metadata": {
        "id": "Zc9t0pzhEQDf"
      },
      "outputs": [
        {
          "data": {
            "image/png": "[encoded data removed]",
            "text/plain": [
              "<Figure size 640x480 with 1 Axes>"
            ]
          },
          "metadata": {},
          "output_type": "display_data"
        }
      ],
      "source": [
        "# Crear el gráfico de barras\n",
        "clases.plot(kind='bar', color='skyblue')\n",
        "\n",
        "# Configurar etiquetas y título\n",
        "plt.xlabel('Categoría de salario')\n",
        "plt.ylabel('Número de clientes')\n",
        "plt.title('Distribución de Salarios')\n",
        "\n",
        "# Rotar etiquetas en el eje x para mayor legibilidad\n",
        "plt.xticks(rotation=45, ha='right')\n",
        "\n",
        "# Mostrar el gráfico\n",
        "plt.show()"
      ]
    },
    {
      "cell_type": "markdown",
      "metadata": {
        "id": "ZW_sWIdiEQDg"
      },
      "source": [
        "## Cambiando tipos de variables"
      ]
    },
    {
      "cell_type": "code",
      "execution_count": 224,
      "metadata": {
        "id": "c53SKEO3EQDg"
      },
      "outputs": [
        {
          "name": "stdout",
          "output_type": "stream",
          "text": [
            "<class 'pandas.core.frame.DataFrame'>\n",
            "RangeIndex: 5962924 entries, 0 to 5962923\n",
            "Data columns (total 29 columns):\n",
            " #   Column              Dtype   \n",
            "---  ------              -----   \n",
            " 0   pk_cid              int64   \n",
            " 1   pk_partition        object  \n",
            " 2   entry_date          object  \n",
            " 3   entry_channel       category\n",
            " 4   active_customer     float64 \n",
            " 5   segment             object  \n",
            " 6   short_term_deposit  int64   \n",
            " 7   loans               int64   \n",
            " 8   mortgage            int64   \n",
            " 9   funds               int64   \n",
            " 10  securities          int64   \n",
            " 11  long_term_deposit   int64   \n",
            " 12  em_account_pp       int64   \n",
            " 13  credit_card         int64   \n",
            " 14  payroll             float64 \n",
            " 15  pension_plan        float64 \n",
            " 16  payroll_account     int64   \n",
            " 17  emc_account         int64   \n",
            " 18  debit_card          int64   \n",
            " 19  em_account_p        int64   \n",
            " 20  em_acount           int64   \n",
            " 21  country_id          object  \n",
            " 22  region_code         category\n",
            " 23  gender              object  \n",
            " 24  age                 int64   \n",
            " 25  deceased            int64   \n",
            " 26  salary              float64 \n",
            " 27  region_name         category\n",
            " 28  salary_categ        object  \n",
            "dtypes: category(3), float64(4), int64(16), object(6)\n",
            "memory usage: 1.2+ GB\n"
          ]
        }
      ],
      "source": [
        "df.info()"
      ]
    },
    {
      "cell_type": "code",
      "execution_count": 225,
      "metadata": {
        "id": "UFNMihkPEQDg"
      },
      "outputs": [],
      "source": [
        "df['gender']=df.gender.astype('category')\n",
        "df['segment']=df.segment.astype('category')\n",
        "df['country_id']=df.country_id.astype('category')\n",
        "df['pk_partition'] = pd.to_datetime(df['pk_partition'], format=\"%Y-%m-%d\")\n",
        "\n",
        "datos= ['payroll','pension_plan','active_customer']\n",
        "df[datos]=df[datos].astype('int64')"
      ]
    },
    {
      "cell_type": "code",
      "execution_count": 226,
      "metadata": {
        "id": "ULzlIq7xEQDh"
      },
      "outputs": [
        {
          "name": "stdout",
          "output_type": "stream",
          "text": [
            "pk_cid                            1051705\n",
            "pk_partition          2018-01-28 00:00:00\n",
            "entry_date                     2015-08-14\n",
            "entry_channel                         KHD\n",
            "active_customer                         0\n",
            "segment                     universitario\n",
            "short_term_deposit                      0\n",
            "loans                                   0\n",
            "mortgage                                0\n",
            "funds                                   0\n",
            "securities                              0\n",
            "long_term_deposit                       0\n",
            "em_account_pp                           0\n",
            "credit_card                             0\n",
            "payroll                                 0\n",
            "pension_plan                            0\n",
            "payroll_account                         0\n",
            "emc_account                             0\n",
            "debit_card                              0\n",
            "em_account_p                            0\n",
            "em_acount                               1\n",
            "country_id                             ES\n",
            "region_code                           6.0\n",
            "gender                                  H\n",
            "age                                    22\n",
            "deceased                                0\n",
            "salary                          150626.49\n",
            "region_name                       Badajoz\n",
            "salary_categ                 salario_alto\n",
            "Name: 688, dtype: object\n"
          ]
        }
      ],
      "source": [
        "print(df.iloc[688])"
      ]
    },
    {
      "cell_type": "markdown",
      "metadata": {
        "id": "q7QftcNBEQDh"
      },
      "source": [
        "No me deja convertir a datetime la columna de 'entry_date' por la columna en posición 688, pero al hacer iloc no parece que haya nada mal, así que reemplazo los valores problemáticos por nan y creo una columna nueva con esta info. Después, localizo los nan de esa columna y descubro que es porque la 'entry_date' es 29 de febrero. Sustituyo por 1 de marzo y convierto a datetime."
      ]
    },
    {
      "cell_type": "code",
      "execution_count": 227,
      "metadata": {
        "id": "UG18kCFxEQDh"
      },
      "outputs": [
        {
          "data": {
            "text/plain": [
              "entry_date\n",
              "2019-02-29    4621\n",
              "2015-02-29    1792\n",
              "Name: count, dtype: int64"
            ]
          },
          "execution_count": 227,
          "metadata": {},
          "output_type": "execute_result"
        }
      ],
      "source": [
        "df['entry_date_prueba'] = pd.to_datetime(df['entry_date'], format=\"%Y-%m-%d\", errors='coerce')\n",
        "problematic_rows = df[df['entry_date_prueba'].isna()]\n",
        "problematic_rows.entry_date.value_counts()"
      ]
    },
    {
      "cell_type": "code",
      "execution_count": 228,
      "metadata": {
        "id": "B66Z1PmmEQDi"
      },
      "outputs": [],
      "source": [
        "df['entry_date']=np.where(df['entry_date']=='2015-02-29','2015-03-01',df['entry_date'])\n",
        "df['entry_date']=np.where(df['entry_date']=='2019-02-29','2019-03-01',df['entry_date'])\n",
        "df.drop('entry_date_prueba', axis=1, inplace=True)"
      ]
    },
    {
      "cell_type": "code",
      "execution_count": 229,
      "metadata": {
        "id": "GNTF12L3EQDi"
      },
      "outputs": [],
      "source": [
        "df['entry_date'] = pd.to_datetime(df['entry_date'], format=\"%Y-%m-%d\")"
      ]
    },
    {
      "cell_type": "markdown",
      "metadata": {
        "id": "8PL5Vy9IEQDi"
      },
      "source": [
        "# Creación de variables de interés"
      ]
    },
    {
      "cell_type": "markdown",
      "metadata": {
        "id": "l9MuhkVMEQDi"
      },
      "source": [
        "Carol (CEO) dice en un email que no saben cuántos productos han vendido al mes ni si son clientes nuevos o viejos."
      ]
    },
    {
      "cell_type": "markdown",
      "metadata": {},
      "source": [
        "## Diferencias mensuales por producto"
      ]
    },
    {
      "cell_type": "code",
      "execution_count": 230,
      "metadata": {},
      "outputs": [],
      "source": [
        "productos=['loans', 'mortgage', 'funds', 'securities',\n",
        "           'long_term_deposit', 'em_account_pp', 'credit_card',\n",
        "           'payroll', 'pension_plan', 'payroll_account', 'emc_account',\n",
        "           'debit_card', 'em_account_p', 'em_acount', 'short_term_deposit']"
      ]
    },
    {
      "cell_type": "code",
      "execution_count": 231,
      "metadata": {},
      "outputs": [],
      "source": [
        "def diferencia_mensual_producto (df, producto):\n",
        "    df[producto+'_pm']  = df.groupby('pk_cid')[producto].shift(1) #columna para valores mes anterior\n",
        "    df['dif_'+producto] = df[producto] - df[producto+'_pm']\n",
        "    df.drop(producto+'_pm',axis=1,inplace=True)"
      ]
    },
    {
      "cell_type": "code",
      "execution_count": 232,
      "metadata": {},
      "outputs": [],
      "source": [
        "df_ordenado = df.sort_values(by=['pk_cid', 'pk_partition'])"
      ]
    },
    {
      "cell_type": "code",
      "execution_count": 233,
      "metadata": {},
      "outputs": [],
      "source": [
        "for p in productos:\n",
        "    diferencia_mensual_producto(df_ordenado,p)"
      ]
    },
    {
      "cell_type": "markdown",
      "metadata": {
        "id": "QKJWTavwEQDi"
      },
      "source": [
        "## Variable clientes nuevos"
      ]
    },
    {
      "cell_type": "code",
      "execution_count": 234,
      "metadata": {
        "id": "L4J6RqzJEQDi"
      },
      "outputs": [
        {
          "name": "stdout",
          "output_type": "stream",
          "text": [
            "<class 'pandas.core.frame.DataFrame'>\n",
            "RangeIndex: 5962924 entries, 0 to 5962923\n",
            "Data columns (total 29 columns):\n",
            " #   Column              Dtype         \n",
            "---  ------              -----         \n",
            " 0   pk_cid              int64         \n",
            " 1   pk_partition        datetime64[ns]\n",
            " 2   entry_date          datetime64[ns]\n",
            " 3   entry_channel       category      \n",
            " 4   active_customer     int64         \n",
            " 5   segment             category      \n",
            " 6   short_term_deposit  int64         \n",
            " 7   loans               int64         \n",
            " 8   mortgage            int64         \n",
            " 9   funds               int64         \n",
            " 10  securities          int64         \n",
            " 11  long_term_deposit   int64         \n",
            " 12  em_account_pp       int64         \n",
            " 13  credit_card         int64         \n",
            " 14  payroll             int64         \n",
            " 15  pension_plan        int64         \n",
            " 16  payroll_account     int64         \n",
            " 17  emc_account         int64         \n",
            " 18  debit_card          int64         \n",
            " 19  em_account_p        int64         \n",
            " 20  em_acount           int64         \n",
            " 21  country_id          category      \n",
            " 22  region_code         category      \n",
            " 23  gender              category      \n",
            " 24  age                 int64         \n",
            " 25  deceased            int64         \n",
            " 26  salary              float64       \n",
            " 27  region_name         category      \n",
            " 28  salary_categ        object        \n",
            "dtypes: category(6), datetime64[ns](2), float64(1), int64(19), object(1)\n",
            "memory usage: 1.1+ GB\n"
          ]
        }
      ],
      "source": [
        "df.info()"
      ]
    },
    {
      "cell_type": "markdown",
      "metadata": {
        "id": "F3Y3D4KR8Oww"
      },
      "source": [
        "Creo una variable para clientes nuevos. La lógica es la siguiente: si la fecha de ingesta de datos o pk_partition (momento en el que se contrata el producto al que hace referencia la entrada) es posterior a la fecha de primera contratación o entry_date, la variable vale 0. De lo contrario, 1 (si ambas fechas coinciden, la entrada hace referencia a la primera contratación, y en el caso de que la fecha de ingesta de datos sea anterior a la primera contratación es por una diferencia de uno o dos días, y parece que esto se debe a que el pk_partition se recoge sólo el día 28 de cada mes, por lo que lo consideraremos como nuevo)."
      ]
    },
    {
      "cell_type": "code",
      "execution_count": 235,
      "metadata": {},
      "outputs": [],
      "source": [
        "for i in [\"pk_partition\",\"entry_date\"]:\n",
        "    df_ordenado[i]=pd.to_datetime(df_ordenado[i], format='%Y-%m-%d')"
      ]
    },
    {
      "cell_type": "code",
      "execution_count": 236,
      "metadata": {},
      "outputs": [],
      "source": [
        "# We do the subtraction of the position date with the entry date and we convert it in months\n",
        "df_ordenado['meses_alta']=(df_ordenado['pk_partition']-df_ordenado['entry_date'])/np.timedelta64(1,'M')"
      ]
    },
    {
      "cell_type": "code",
      "execution_count": 237,
      "metadata": {},
      "outputs": [
        {
          "data": {
            "text/plain": [
              "11586"
            ]
          },
          "execution_count": 237,
          "metadata": {},
          "output_type": "execute_result"
        }
      ],
      "source": [
        "#como la fecha de ingesta se hace siempre el día 28 del mes, va a haber clientes que tengan un tiempo de alta negativo \n",
        "#porque va a haber clientes que tengan entry_date en días entre el 29 y el 31\n",
        "len(df_ordenado[df_ordenado['meses_alta']<0])"
      ]
    },
    {
      "cell_type": "code",
      "execution_count": 238,
      "metadata": {},
      "outputs": [
        {
          "data": {
            "text/plain": [
              "em_acount            931\n",
              "loans                  0\n",
              "mortgage               0\n",
              "funds                  0\n",
              "securities             0\n",
              "long_term_deposit     20\n",
              "em_account_pp          0\n",
              "credit_card            0\n",
              "payroll                0\n",
              "pension_plan           0\n",
              "payroll_account       13\n",
              "emc_account            0\n",
              "debit_card             0\n",
              "em_account_p           0\n",
              "dtype: int64"
            ]
          },
          "execution_count": 238,
          "metadata": {},
          "output_type": "execute_result"
        }
      ],
      "source": [
        "df_ordenado[df_ordenado['meses_alta']<0].agg({'em_acount':np.sum,\n",
        "'loans':np.sum,\n",
        " 'mortgage':np.sum,\n",
        " 'funds':np.sum,\n",
        " 'securities':np.sum,\n",
        " 'long_term_deposit':np.sum,\n",
        " 'em_account_pp':np.sum,\n",
        " 'credit_card':np.sum,\n",
        " 'payroll':np.sum,\n",
        " 'pension_plan':np.sum,\n",
        " 'payroll_account':np.sum,\n",
        " 'emc_account':np.sum,\n",
        " 'debit_card':np.sum,\n",
        " 'em_account_p':np.sum,\n",
        " 'em_acount':np.sum})"
      ]
    },
    {
      "cell_type": "code",
      "execution_count": 239,
      "metadata": {},
      "outputs": [
        {
          "data": {
            "text/plain": [
              "meses_alta\n",
              "-0.032258    5103\n",
              "-0.064516    4707\n",
              "-0.096774    1776\n",
              "Name: count, dtype: int64"
            ]
          },
          "execution_count": 239,
          "metadata": {},
          "output_type": "execute_result"
        }
      ],
      "source": [
        "df_ordenado[df_ordenado['meses_alta']<0]['meses_alta'].value_counts()"
      ]
    },
    {
      "cell_type": "code",
      "execution_count": 240,
      "metadata": {},
      "outputs": [],
      "source": [
        "df_ordenado['new_client']=((df_ordenado['meses_alta'] < 1) & \n",
        "                          (df_ordenado['meses_alta'] > 0)).astype(int)"
      ]
    },
    {
      "cell_type": "code",
      "execution_count": 241,
      "metadata": {},
      "outputs": [
        {
          "data": {
            "text/plain": [
              "<matplotlib.legend.Legend at 0x13855e610>"
            ]
          },
          "execution_count": 241,
          "metadata": {},
          "output_type": "execute_result"
        },
        {
          "data": {
            "image/png": "[encoded data removed]",
            "text/plain": [
              "<Figure size 1000x800 with 1 Axes>"
            ]
          },
          "metadata": {},
          "output_type": "display_data"
        }
      ],
      "source": [
        "df_altas=df_ordenado.groupby(['pk_partition'])['new_client'].sum()\n",
        "fig = plt.figure(figsize = (10, 8))\n",
        "plt.plot(df_altas, color = \"green\", label = \"Altas mensuales\")\n",
        "plt.title(\"Altas mensuales de clientes\")\n",
        "plt.legend()"
      ]
    },
    {
      "cell_type": "markdown",
      "metadata": {},
      "source": [
        "Al hacer los diferenciales, los primeros registros van a ser nulos. Hay 3 posibles casos:\n",
        "- Clientes antiguos cuyo primer registro de la muestra sea 0 en todos los productos: en este caso, el nulo equivaldría a 0.\n",
        "- Clientes antiguos cuyo primer registro sea distinto de 0 en todos los productos. Como no tenemos información anterior a la muestra, no podemos suponer que sean altas (pueden ser productos que tienen dados de alta desde hace tiempo, y asignarles un valor distinto de 0 distorsionaría la muestra).\n",
        "- Clientes nuevos con valores distintos de 0. En este caso, al ser clientes nuevos, los productos serán 100% altas, por lo que le asignaremos el valor que tenga la variable no diferencial a la variable diferencial."
      ]
    },
    {
      "cell_type": "code",
      "execution_count": 242,
      "metadata": {},
      "outputs": [],
      "source": [
        "for x in productos:\n",
        "    df_ordenado.loc[ (df_ordenado['new_client']==1) &\n",
        "                   (df_ordenado['dif_'+x].isnull()==True), \n",
        "                  'dif_'+x]=df_ordenado[x]"
      ]
    },
    {
      "cell_type": "markdown",
      "metadata": {
        "id": "LRdYsl3sntU7"
      },
      "source": [
        "## Productos contratados por cada cliente"
      ]
    },
    {
      "cell_type": "markdown",
      "metadata": {
        "id": "g__e09qw0-bd"
      },
      "source": [
        "Creo un df de productos con melt, convirtiendo las columnas de la lista `productos` en filas y creo 2 columnas"
      ]
    },
    {
      "cell_type": "code",
      "execution_count": 243,
      "metadata": {
        "id": "A-cb7U-205MT"
      },
      "outputs": [],
      "source": [
        "df_productos=df_ordenado.melt(id_vars=['pk_partition','pk_cid'], value_vars=productos, var_name='Producto', value_name='Count')"
      ]
    },
    {
      "cell_type": "markdown",
      "metadata": {
        "id": "9foR2ji12Jer"
      },
      "source": [
        "Sumo las cantidades de productos para cada cliente cada día registrado"
      ]
    },
    {
      "cell_type": "code",
      "execution_count": 244,
      "metadata": {},
      "outputs": [
        {
          "data": {
            "text/html": [
              "<div>\n",
              "<style scoped>\n",
              "    .dataframe tbody tr th:only-of-type {\n",
              "        vertical-align: middle;\n",
              "    }\n",
              "\n",
              "    .dataframe tbody tr th {\n",
              "        vertical-align: top;\n",
              "    }\n",
              "\n",
              "    .dataframe thead th {\n",
              "        text-align: right;\n",
              "    }\n",
              "</style>\n",
              "<table border=\"1\" class=\"dataframe\">\n",
              "  <thead>\n",
              "    <tr style=\"text-align: right;\">\n",
              "      <th></th>\n",
              "      <th>pk_partition</th>\n",
              "      <th>pk_cid</th>\n",
              "      <th>Producto</th>\n",
              "      <th>Count</th>\n",
              "    </tr>\n",
              "  </thead>\n",
              "  <tbody>\n",
              "    <tr>\n",
              "      <th>0</th>\n",
              "      <td>2018-07-28</td>\n",
              "      <td>15891</td>\n",
              "      <td>loans</td>\n",
              "      <td>0</td>\n",
              "    </tr>\n",
              "    <tr>\n",
              "      <th>1</th>\n",
              "      <td>2018-08-28</td>\n",
              "      <td>15891</td>\n",
              "      <td>loans</td>\n",
              "      <td>0</td>\n",
              "    </tr>\n",
              "    <tr>\n",
              "      <th>2</th>\n",
              "      <td>2018-11-28</td>\n",
              "      <td>16063</td>\n",
              "      <td>loans</td>\n",
              "      <td>0</td>\n",
              "    </tr>\n",
              "    <tr>\n",
              "      <th>3</th>\n",
              "      <td>2018-12-28</td>\n",
              "      <td>16063</td>\n",
              "      <td>loans</td>\n",
              "      <td>0</td>\n",
              "    </tr>\n",
              "    <tr>\n",
              "      <th>4</th>\n",
              "      <td>2019-01-28</td>\n",
              "      <td>16063</td>\n",
              "      <td>loans</td>\n",
              "      <td>0</td>\n",
              "    </tr>\n",
              "    <tr>\n",
              "      <th>...</th>\n",
              "      <td>...</td>\n",
              "      <td>...</td>\n",
              "      <td>...</td>\n",
              "      <td>...</td>\n",
              "    </tr>\n",
              "    <tr>\n",
              "      <th>89443855</th>\n",
              "      <td>2019-05-28</td>\n",
              "      <td>1553685</td>\n",
              "      <td>short_term_deposit</td>\n",
              "      <td>0</td>\n",
              "    </tr>\n",
              "    <tr>\n",
              "      <th>89443856</th>\n",
              "      <td>2019-05-28</td>\n",
              "      <td>1553686</td>\n",
              "      <td>short_term_deposit</td>\n",
              "      <td>0</td>\n",
              "    </tr>\n",
              "    <tr>\n",
              "      <th>89443857</th>\n",
              "      <td>2019-05-28</td>\n",
              "      <td>1553687</td>\n",
              "      <td>short_term_deposit</td>\n",
              "      <td>0</td>\n",
              "    </tr>\n",
              "    <tr>\n",
              "      <th>89443858</th>\n",
              "      <td>2019-05-28</td>\n",
              "      <td>1553688</td>\n",
              "      <td>short_term_deposit</td>\n",
              "      <td>0</td>\n",
              "    </tr>\n",
              "    <tr>\n",
              "      <th>89443859</th>\n",
              "      <td>2019-05-28</td>\n",
              "      <td>1553689</td>\n",
              "      <td>short_term_deposit</td>\n",
              "      <td>0</td>\n",
              "    </tr>\n",
              "  </tbody>\n",
              "</table>\n",
              "<p>89443860 rows × 4 columns</p>\n",
              "</div>"
            ],
            "text/plain": [
              "         pk_partition   pk_cid            Producto  Count\n",
              "0          2018-07-28    15891               loans      0\n",
              "1          2018-08-28    15891               loans      0\n",
              "2          2018-11-28    16063               loans      0\n",
              "3          2018-12-28    16063               loans      0\n",
              "4          2019-01-28    16063               loans      0\n",
              "...               ...      ...                 ...    ...\n",
              "89443855   2019-05-28  1553685  short_term_deposit      0\n",
              "89443856   2019-05-28  1553686  short_term_deposit      0\n",
              "89443857   2019-05-28  1553687  short_term_deposit      0\n",
              "89443858   2019-05-28  1553688  short_term_deposit      0\n",
              "89443859   2019-05-28  1553689  short_term_deposit      0\n",
              "\n",
              "[89443860 rows x 4 columns]"
            ]
          },
          "execution_count": 244,
          "metadata": {},
          "output_type": "execute_result"
        }
      ],
      "source": [
        "df_productos"
      ]
    },
    {
      "cell_type": "code",
      "execution_count": 245,
      "metadata": {
        "id": "EICHiw_d1P6O"
      },
      "outputs": [],
      "source": [
        "# Agrupar por 'pk_partition' y 'pk_cid', sumar las cantidades ('Count')\n",
        "df_productos=df_productos.groupby(['pk_partition','pk_cid']).agg({'Count':np.sum}).reset_index(drop=False)"
      ]
    },
    {
      "cell_type": "code",
      "execution_count": 246,
      "metadata": {},
      "outputs": [],
      "source": [
        "df_productos.rename(columns={'Count':'productos_totales'}, inplace=True)"
      ]
    },
    {
      "cell_type": "code",
      "execution_count": 247,
      "metadata": {},
      "outputs": [],
      "source": [
        "df_ordenado=pd.merge(df_ordenado,df_productos, how=\"inner\",on=['pk_cid','pk_partition'])"
      ]
    },
    {
      "cell_type": "markdown",
      "metadata": {},
      "source": [
        "## Ingresos mensuales"
      ]
    },
    {
      "cell_type": "markdown",
      "metadata": {},
      "source": [
        "Para los clientes nuevos, como no hay valores anteriores, tendremos un nan, pero es probable que en esa primera entrada haya contratado productos, así que hay que solucionarlo.\n",
        "Pongo para todos 0"
      ]
    },
    {
      "cell_type": "code",
      "execution_count": 248,
      "metadata": {},
      "outputs": [],
      "source": [
        "#quiero juntar las diferencias con mi df\n",
        "primeras_dif=['dif_debit_card',              \n",
        "'dif_em_account_p',               \n",
        "'dif_em_account_pp',              \n",
        "'dif_em_acount',                  \n",
        "'dif_emc_account',                \n",
        "'dif_payroll',                   \n",
        "'dif_payroll_account',            \n",
        "'dif_funds',                      \n",
        "'dif_long_term_deposit',         \n",
        "'dif_mortgage',                   \n",
        "'dif_pension_plan',               \n",
        "'dif_securities',                \n",
        "'dif_short_term_deposit',        \n",
        "'dif_loans',                      \n",
        "'dif_credit_card']  "
      ]
    },
    {
      "cell_type": "code",
      "execution_count": 249,
      "metadata": {},
      "outputs": [],
      "source": [
        "df_ing=df_ordenado.melt(id_vars=['pk_partition','pk_cid'],\n",
        "              value_vars=primeras_dif,\n",
        "              var_name='productos_totales',\n",
        "              value_name='Count')"
      ]
    },
    {
      "cell_type": "code",
      "execution_count": 250,
      "metadata": {},
      "outputs": [
        {
          "data": {
            "text/plain": [
              "Count\n",
              " 0.0    84026250\n",
              " 1.0      331059\n",
              "-1.0      196041\n",
              "Name: count, dtype: int64"
            ]
          },
          "execution_count": 250,
          "metadata": {},
          "output_type": "execute_result"
        }
      ],
      "source": [
        "df_ing['Count'].value_counts()"
      ]
    },
    {
      "cell_type": "code",
      "execution_count": 251,
      "metadata": {},
      "outputs": [],
      "source": [
        "# creo un df con las altas, porque los ingresos solo van asociados a altas\n",
        "df_altas=df_ing[df_ing['Count']==1]"
      ]
    },
    {
      "cell_type": "code",
      "execution_count": 252,
      "metadata": {},
      "outputs": [],
      "source": [
        "ingresos={'dif_debit_card':10 ,              \n",
        "'dif_em_account_p':10 ,               \n",
        "'dif_em_account_pp':10 ,              \n",
        "'dif_em_acount':10 ,                  \n",
        "'dif_emc_account':10 ,                \n",
        "'dif_payroll':10 ,                   \n",
        "'dif_payroll_account':10 ,            \n",
        "'dif_funds':40 ,                      \n",
        "'dif_long_term_deposit':40 ,         \n",
        "'dif_mortgage':40 ,                   \n",
        "'dif_pension_plan':40 ,               \n",
        "'dif_securities':40 ,                \n",
        "'dif_short_term_deposit':40 ,        \n",
        "'dif_loans':60 ,                      \n",
        "'dif_credit_card':60 }"
      ]
    },
    {
      "cell_type": "code",
      "execution_count": 253,
      "metadata": {},
      "outputs": [
        {
          "name": "stderr",
          "output_type": "stream",
          "text": [
            "/var/folders/v8/ttzsnn891fd42qm8ffd92scm0000gp/T/ipykernel_33598/3928520534.py:1: SettingWithCopyWarning: \n",
            "A value is trying to be set on a copy of a slice from a DataFrame.\n",
            "Try using .loc[row_indexer,col_indexer] = value instead\n",
            "\n",
            "See the caveats in the documentation: https://pandas.pydata.org/pandas-docs/stable/user_guide/indexing.html#returning-a-view-versus-a-copy\n",
            "  df_altas['ingresos_producto']=df_altas['productos_totales'].map(ingresos)\n"
          ]
        }
      ],
      "source": [
        "df_altas['ingresos_producto']=df_altas['productos_totales'].map(ingresos)"
      ]
    },
    {
      "cell_type": "code",
      "execution_count": 254,
      "metadata": {},
      "outputs": [
        {
          "name": "stderr",
          "output_type": "stream",
          "text": [
            "/var/folders/v8/ttzsnn891fd42qm8ffd92scm0000gp/T/ipykernel_33598/191210926.py:1: SettingWithCopyWarning: \n",
            "A value is trying to be set on a copy of a slice from a DataFrame.\n",
            "Try using .loc[row_indexer,col_indexer] = value instead\n",
            "\n",
            "See the caveats in the documentation: https://pandas.pydata.org/pandas-docs/stable/user_guide/indexing.html#returning-a-view-versus-a-copy\n",
            "  df_altas['ingresos']=df_altas['Count']*df_altas['ingresos_producto']\n"
          ]
        }
      ],
      "source": [
        "df_altas['ingresos']=df_altas['Count']*df_altas['ingresos_producto']"
      ]
    },
    {
      "cell_type": "code",
      "execution_count": 255,
      "metadata": {},
      "outputs": [],
      "source": [
        "clientes_ingresos=df_altas.groupby(['pk_partition','pk_cid'])\\\n",
        "    .agg({'ingresos_producto':np.sum}).reset_index(drop=False)"
      ]
    },
    {
      "cell_type": "code",
      "execution_count": 256,
      "metadata": {},
      "outputs": [],
      "source": [
        "df_ordenado =pd.merge(df_ordenado , clientes_ingresos, \n",
        "                    how=\"left\",on=['pk_cid','pk_partition'])"
      ]
    },
    {
      "cell_type": "code",
      "execution_count": 257,
      "metadata": {},
      "outputs": [],
      "source": [
        "df_ordenado['ingresos_producto'].fillna(0,inplace=True)"
      ]
    },
    {
      "cell_type": "code",
      "execution_count": 258,
      "metadata": {},
      "outputs": [],
      "source": [
        "for p in productos:\n",
        "    df_ordenado.loc[ (df_ordenado['new_client']==1) &\n",
        "                   (df_ordenado['dif_'+p].isnull()==True), \n",
        "                  'dif_'+p]=df_ordenado[p]"
      ]
    },
    {
      "cell_type": "code",
      "execution_count": 259,
      "metadata": {},
      "outputs": [],
      "source": [
        "for p in productos:\n",
        "    df_ordenado.loc[ (df_ordenado['new_client']==0) &\n",
        "                   (df_ordenado['dif_'+p].isnull()==True), \n",
        "                  'dif_'+p]=0"
      ]
    },
    {
      "cell_type": "code",
      "execution_count": 260,
      "metadata": {},
      "outputs": [
        {
          "data": {
            "text/plain": [
              "count    5.962924e+06\n",
              "mean     8.932346e-01\n",
              "std      5.679151e+00\n",
              "min      0.000000e+00\n",
              "25%      0.000000e+00\n",
              "50%      0.000000e+00\n",
              "75%      0.000000e+00\n",
              "max      1.500000e+02\n",
              "Name: ingresos_producto, dtype: float64"
            ]
          },
          "execution_count": 260,
          "metadata": {},
          "output_type": "execute_result"
        }
      ],
      "source": [
        "df_ordenado['ingresos_producto'].describe()"
      ]
    },
    {
      "cell_type": "markdown",
      "metadata": {},
      "source": [
        "## Clientes fantasma o inactivos"
      ]
    },
    {
      "cell_type": "markdown",
      "metadata": {},
      "source": [
        "Veo que hay clientes que en toda la muestra no han adquirido ningún producto, por lo que voy a crear una columna para designarlos."
      ]
    },
    {
      "cell_type": "code",
      "execution_count": 261,
      "metadata": {},
      "outputs": [
        {
          "data": {
            "text/html": [
              "<div>\n",
              "<style scoped>\n",
              "    .dataframe tbody tr th:only-of-type {\n",
              "        vertical-align: middle;\n",
              "    }\n",
              "\n",
              "    .dataframe tbody tr th {\n",
              "        vertical-align: top;\n",
              "    }\n",
              "\n",
              "    .dataframe thead th {\n",
              "        text-align: right;\n",
              "    }\n",
              "</style>\n",
              "<table border=\"1\" class=\"dataframe\">\n",
              "  <thead>\n",
              "    <tr style=\"text-align: right;\">\n",
              "      <th></th>\n",
              "      <th>pk_cid</th>\n",
              "      <th>pk_partition</th>\n",
              "      <th>entry_date</th>\n",
              "      <th>entry_channel</th>\n",
              "      <th>active_customer</th>\n",
              "      <th>segment</th>\n",
              "      <th>short_term_deposit</th>\n",
              "      <th>loans</th>\n",
              "      <th>mortgage</th>\n",
              "      <th>funds</th>\n",
              "      <th>securities</th>\n",
              "      <th>long_term_deposit</th>\n",
              "      <th>em_account_pp</th>\n",
              "      <th>credit_card</th>\n",
              "      <th>payroll</th>\n",
              "      <th>pension_plan</th>\n",
              "      <th>payroll_account</th>\n",
              "      <th>emc_account</th>\n",
              "      <th>debit_card</th>\n",
              "      <th>em_account_p</th>\n",
              "      <th>em_acount</th>\n",
              "      <th>country_id</th>\n",
              "      <th>region_code</th>\n",
              "      <th>gender</th>\n",
              "      <th>age</th>\n",
              "      <th>deceased</th>\n",
              "      <th>salary</th>\n",
              "      <th>region_name</th>\n",
              "      <th>salary_categ</th>\n",
              "    </tr>\n",
              "  </thead>\n",
              "  <tbody>\n",
              "    <tr>\n",
              "      <th>2962973</th>\n",
              "      <td>16063</td>\n",
              "      <td>2018-11-28</td>\n",
              "      <td>2018-11-19</td>\n",
              "      <td>KAT</td>\n",
              "      <td>1</td>\n",
              "      <td>desconocido</td>\n",
              "      <td>0</td>\n",
              "      <td>0</td>\n",
              "      <td>0</td>\n",
              "      <td>0</td>\n",
              "      <td>0</td>\n",
              "      <td>0</td>\n",
              "      <td>0</td>\n",
              "      <td>0</td>\n",
              "      <td>0</td>\n",
              "      <td>0</td>\n",
              "      <td>0</td>\n",
              "      <td>0</td>\n",
              "      <td>0</td>\n",
              "      <td>0</td>\n",
              "      <td>0</td>\n",
              "      <td>ES</td>\n",
              "      <td>28.0</td>\n",
              "      <td>H</td>\n",
              "      <td>62</td>\n",
              "      <td>0</td>\n",
              "      <td>-999.0</td>\n",
              "      <td>Madrid</td>\n",
              "      <td>Desconocido</td>\n",
              "    </tr>\n",
              "    <tr>\n",
              "      <th>3628236</th>\n",
              "      <td>16063</td>\n",
              "      <td>2018-12-28</td>\n",
              "      <td>2018-11-19</td>\n",
              "      <td>KAT</td>\n",
              "      <td>1</td>\n",
              "      <td>particulares</td>\n",
              "      <td>0</td>\n",
              "      <td>0</td>\n",
              "      <td>0</td>\n",
              "      <td>0</td>\n",
              "      <td>0</td>\n",
              "      <td>0</td>\n",
              "      <td>0</td>\n",
              "      <td>0</td>\n",
              "      <td>0</td>\n",
              "      <td>0</td>\n",
              "      <td>0</td>\n",
              "      <td>0</td>\n",
              "      <td>0</td>\n",
              "      <td>0</td>\n",
              "      <td>0</td>\n",
              "      <td>ES</td>\n",
              "      <td>28.0</td>\n",
              "      <td>H</td>\n",
              "      <td>62</td>\n",
              "      <td>0</td>\n",
              "      <td>-999.0</td>\n",
              "      <td>Madrid</td>\n",
              "      <td>Desconocido</td>\n",
              "    </tr>\n",
              "    <tr>\n",
              "      <th>4028169</th>\n",
              "      <td>16063</td>\n",
              "      <td>2019-01-28</td>\n",
              "      <td>2018-11-19</td>\n",
              "      <td>KAT</td>\n",
              "      <td>1</td>\n",
              "      <td>particulares</td>\n",
              "      <td>0</td>\n",
              "      <td>0</td>\n",
              "      <td>0</td>\n",
              "      <td>0</td>\n",
              "      <td>0</td>\n",
              "      <td>0</td>\n",
              "      <td>0</td>\n",
              "      <td>0</td>\n",
              "      <td>0</td>\n",
              "      <td>0</td>\n",
              "      <td>0</td>\n",
              "      <td>0</td>\n",
              "      <td>0</td>\n",
              "      <td>0</td>\n",
              "      <td>0</td>\n",
              "      <td>ES</td>\n",
              "      <td>28.0</td>\n",
              "      <td>H</td>\n",
              "      <td>62</td>\n",
              "      <td>0</td>\n",
              "      <td>-999.0</td>\n",
              "      <td>Madrid</td>\n",
              "      <td>Desconocido</td>\n",
              "    </tr>\n",
              "    <tr>\n",
              "      <th>4480637</th>\n",
              "      <td>16063</td>\n",
              "      <td>2019-02-28</td>\n",
              "      <td>2018-11-19</td>\n",
              "      <td>KAT</td>\n",
              "      <td>1</td>\n",
              "      <td>particulares</td>\n",
              "      <td>0</td>\n",
              "      <td>0</td>\n",
              "      <td>0</td>\n",
              "      <td>0</td>\n",
              "      <td>0</td>\n",
              "      <td>0</td>\n",
              "      <td>0</td>\n",
              "      <td>0</td>\n",
              "      <td>0</td>\n",
              "      <td>0</td>\n",
              "      <td>0</td>\n",
              "      <td>0</td>\n",
              "      <td>0</td>\n",
              "      <td>0</td>\n",
              "      <td>0</td>\n",
              "      <td>ES</td>\n",
              "      <td>28.0</td>\n",
              "      <td>H</td>\n",
              "      <td>62</td>\n",
              "      <td>0</td>\n",
              "      <td>-999.0</td>\n",
              "      <td>Madrid</td>\n",
              "      <td>Desconocido</td>\n",
              "    </tr>\n",
              "    <tr>\n",
              "      <th>4876040</th>\n",
              "      <td>16063</td>\n",
              "      <td>2019-03-28</td>\n",
              "      <td>2018-11-19</td>\n",
              "      <td>KAT</td>\n",
              "      <td>0</td>\n",
              "      <td>particulares</td>\n",
              "      <td>0</td>\n",
              "      <td>0</td>\n",
              "      <td>0</td>\n",
              "      <td>0</td>\n",
              "      <td>0</td>\n",
              "      <td>0</td>\n",
              "      <td>0</td>\n",
              "      <td>0</td>\n",
              "      <td>0</td>\n",
              "      <td>0</td>\n",
              "      <td>0</td>\n",
              "      <td>0</td>\n",
              "      <td>0</td>\n",
              "      <td>0</td>\n",
              "      <td>0</td>\n",
              "      <td>ES</td>\n",
              "      <td>28.0</td>\n",
              "      <td>H</td>\n",
              "      <td>62</td>\n",
              "      <td>0</td>\n",
              "      <td>-999.0</td>\n",
              "      <td>Madrid</td>\n",
              "      <td>Desconocido</td>\n",
              "    </tr>\n",
              "    <tr>\n",
              "      <th>5134317</th>\n",
              "      <td>16063</td>\n",
              "      <td>2019-04-28</td>\n",
              "      <td>2018-11-19</td>\n",
              "      <td>KAT</td>\n",
              "      <td>1</td>\n",
              "      <td>particulares</td>\n",
              "      <td>0</td>\n",
              "      <td>0</td>\n",
              "      <td>0</td>\n",
              "      <td>0</td>\n",
              "      <td>0</td>\n",
              "      <td>0</td>\n",
              "      <td>0</td>\n",
              "      <td>0</td>\n",
              "      <td>0</td>\n",
              "      <td>0</td>\n",
              "      <td>0</td>\n",
              "      <td>0</td>\n",
              "      <td>0</td>\n",
              "      <td>0</td>\n",
              "      <td>0</td>\n",
              "      <td>ES</td>\n",
              "      <td>28.0</td>\n",
              "      <td>H</td>\n",
              "      <td>62</td>\n",
              "      <td>0</td>\n",
              "      <td>-999.0</td>\n",
              "      <td>Madrid</td>\n",
              "      <td>Desconocido</td>\n",
              "    </tr>\n",
              "    <tr>\n",
              "      <th>5523397</th>\n",
              "      <td>16063</td>\n",
              "      <td>2019-05-28</td>\n",
              "      <td>2018-11-19</td>\n",
              "      <td>KAT</td>\n",
              "      <td>0</td>\n",
              "      <td>particulares</td>\n",
              "      <td>0</td>\n",
              "      <td>0</td>\n",
              "      <td>0</td>\n",
              "      <td>0</td>\n",
              "      <td>0</td>\n",
              "      <td>0</td>\n",
              "      <td>0</td>\n",
              "      <td>0</td>\n",
              "      <td>0</td>\n",
              "      <td>0</td>\n",
              "      <td>0</td>\n",
              "      <td>0</td>\n",
              "      <td>0</td>\n",
              "      <td>0</td>\n",
              "      <td>0</td>\n",
              "      <td>ES</td>\n",
              "      <td>28.0</td>\n",
              "      <td>H</td>\n",
              "      <td>62</td>\n",
              "      <td>0</td>\n",
              "      <td>-999.0</td>\n",
              "      <td>Madrid</td>\n",
              "      <td>Desconocido</td>\n",
              "    </tr>\n",
              "  </tbody>\n",
              "</table>\n",
              "</div>"
            ],
            "text/plain": [
              "         pk_cid pk_partition entry_date entry_channel  active_customer  \\\n",
              "2962973   16063   2018-11-28 2018-11-19           KAT                1   \n",
              "3628236   16063   2018-12-28 2018-11-19           KAT                1   \n",
              "4028169   16063   2019-01-28 2018-11-19           KAT                1   \n",
              "4480637   16063   2019-02-28 2018-11-19           KAT                1   \n",
              "4876040   16063   2019-03-28 2018-11-19           KAT                0   \n",
              "5134317   16063   2019-04-28 2018-11-19           KAT                1   \n",
              "5523397   16063   2019-05-28 2018-11-19           KAT                0   \n",
              "\n",
              "              segment  short_term_deposit  loans  mortgage  funds  securities  \\\n",
              "2962973   desconocido                   0      0         0      0           0   \n",
              "3628236  particulares                   0      0         0      0           0   \n",
              "4028169  particulares                   0      0         0      0           0   \n",
              "4480637  particulares                   0      0         0      0           0   \n",
              "4876040  particulares                   0      0         0      0           0   \n",
              "5134317  particulares                   0      0         0      0           0   \n",
              "5523397  particulares                   0      0         0      0           0   \n",
              "\n",
              "         long_term_deposit  em_account_pp  credit_card  payroll  pension_plan  \\\n",
              "2962973                  0              0            0        0             0   \n",
              "3628236                  0              0            0        0             0   \n",
              "4028169                  0              0            0        0             0   \n",
              "4480637                  0              0            0        0             0   \n",
              "4876040                  0              0            0        0             0   \n",
              "5134317                  0              0            0        0             0   \n",
              "5523397                  0              0            0        0             0   \n",
              "\n",
              "         payroll_account  emc_account  debit_card  em_account_p  em_acount  \\\n",
              "2962973                0            0           0             0          0   \n",
              "3628236                0            0           0             0          0   \n",
              "4028169                0            0           0             0          0   \n",
              "4480637                0            0           0             0          0   \n",
              "4876040                0            0           0             0          0   \n",
              "5134317                0            0           0             0          0   \n",
              "5523397                0            0           0             0          0   \n",
              "\n",
              "        country_id region_code gender  age  deceased  salary region_name  \\\n",
              "2962973         ES        28.0      H   62         0  -999.0      Madrid   \n",
              "3628236         ES        28.0      H   62         0  -999.0      Madrid   \n",
              "4028169         ES        28.0      H   62         0  -999.0      Madrid   \n",
              "4480637         ES        28.0      H   62         0  -999.0      Madrid   \n",
              "4876040         ES        28.0      H   62         0  -999.0      Madrid   \n",
              "5134317         ES        28.0      H   62         0  -999.0      Madrid   \n",
              "5523397         ES        28.0      H   62         0  -999.0      Madrid   \n",
              "\n",
              "        salary_categ  \n",
              "2962973  Desconocido  \n",
              "3628236  Desconocido  \n",
              "4028169  Desconocido  \n",
              "4480637  Desconocido  \n",
              "4876040  Desconocido  \n",
              "5134317  Desconocido  \n",
              "5523397  Desconocido  "
            ]
          },
          "execution_count": 261,
          "metadata": {},
          "output_type": "execute_result"
        }
      ],
      "source": [
        "df.query('pk_cid==16063') #clientes no activos"
      ]
    },
    {
      "cell_type": "code",
      "execution_count": 262,
      "metadata": {},
      "outputs": [],
      "source": [
        "# Calcula la suma de productos_totales por cliente y justo con el df principal\n",
        "suma_productos_cliente = df_ordenado.groupby('pk_cid')['productos_totales'].sum().reset_index()\n",
        "suma_productos_cliente = suma_productos_cliente.rename(columns={'productos_totales': 'suma_productos_totales'})\n",
        "\n",
        "df_ordenado = pd.merge(df_ordenado, suma_productos_cliente, on='pk_cid', how='left')\n",
        "\n",
        "# creo una columna binaria para si el cliente es activo en algún momento de la muestra y borro\n",
        "df_ordenado['cliente_activo'] = np.where(df_ordenado['suma_productos_totales'] == 0, 0, 1)\n",
        "df_ordenado = df_ordenado.drop(columns=['suma_productos_totales'])"
      ]
    },
    {
      "cell_type": "markdown",
      "metadata": {},
      "source": [
        "Lo guardo en un archivo comprimido para que no me ocupe espacio."
      ]
    },
    {
      "cell_type": "code",
      "execution_count": 263,
      "metadata": {},
      "outputs": [],
      "source": [
        "df_ordenado.to_pickle('EasyMoney_base.pkl', compression='zip')"
      ]
    }
  ],
  "metadata": {
    "colab": {
      "collapsed_sections": [
        "KzVUUTMmFNr_",
        "xZ62GwSqEQC9",
        "F01TS9PxEQDC",
        "qvJ2r1fQEQDK",
        "Bu7FLLq4EQDN",
        "dhnBA-CSEQDP",
        "Qs8xOajkEQDR",
        "QKJWTavwEQDi"
      ],
      "provenance": []
    },
    "kernelspec": {
      "display_name": "Python 3 (ipykernel)",
      "language": "python",
      "name": "python3"
    },
    "language_info": {
      "codemirror_mode": {
        "name": "ipython",
        "version": 3
      },
      "file_extension": ".py",
      "mimetype": "text/x-python",
      "name": "python",
      "nbconvert_exporter": "python",
      "pygments_lexer": "ipython3",
      "version": "3.11.5"
    }
  },
  "nbformat": 4,
  "nbformat_minor": 0
}
